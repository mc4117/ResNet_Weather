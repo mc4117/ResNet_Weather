{
 "cells": [
  {
   "cell_type": "markdown",
   "metadata": {},
   "source": [
    "In the important variables the correlation increases as the number of days increases"
   ]
  },
  {
   "cell_type": "code",
   "execution_count": 1,
   "metadata": {},
   "outputs": [],
   "source": [
    "import xarray as xr\n",
    "\n",
    "import matplotlib.pyplot as plt\n",
    "import pandas as pd\n",
    "import numpy as np"
   ]
  },
  {
   "cell_type": "code",
   "execution_count": 2,
   "metadata": {},
   "outputs": [],
   "source": [
    "DATADIR = '/rds/general/user/mc4117/home/WeatherBench/data/'  "
   ]
  },
  {
   "cell_type": "code",
   "execution_count": 3,
   "metadata": {},
   "outputs": [
    {
     "name": "stdout",
     "output_type": "stream",
     "text": [
      "10m_u_component_of_wind  potential_vorticity\t       total_cloud_cover\n",
      "10m_v_component_of_wind  relative_humidity\t       total_precipitation\n",
      "2m_temperature\t\t specific_humidity\t       u_component_of_wind\n",
      "constants\t\t temperature\t\t       v_component_of_wind\n",
      "geopotential\t\t temperature_850\t       vorticity\n",
      "geopotential_500\t toa_incident_solar_radiation\n"
     ]
    }
   ],
   "source": [
    "! ls $DATADIR"
   ]
  },
  {
   "cell_type": "code",
   "execution_count": 4,
   "metadata": {},
   "outputs": [],
   "source": [
    "def covariance(x, y, dim=None):\n",
    "    valid_values = x.notnull() & y.notnull()\n",
    "    valid_count = valid_values.sum(dim)\n",
    "\n",
    "    demeaned_x = (x - x.mean(dim)).fillna(0)\n",
    "    demeaned_y = (y - y.mean(dim)).fillna(0)\n",
    "    \n",
    "    return xr.dot(demeaned_x, demeaned_y, dims=dim) / valid_count\n",
    "\n",
    "def correlation(x, y, dim=None):\n",
    "    # dim should default to the intersection of x.dims and y.dims\n",
    "    return covariance(x, y, dim) / (x.std(dim) * y.std(dim))"
   ]
  },
  {
   "cell_type": "code",
   "execution_count": 5,
   "metadata": {},
   "outputs": [],
   "source": [
    "def color_negative_red(value):\n",
    "\n",
    "    if abs(value) < 0.25:\n",
    "        color = 'red'\n",
    "    elif abs(value) > 0.5:\n",
    "        color = 'green'\n",
    "    else:\n",
    "        color = 'black'\n",
    "\n",
    "    return 'color: %s' % color"
   ]
  },
  {
   "cell_type": "code",
   "execution_count": 6,
   "metadata": {},
   "outputs": [],
   "source": [
    "u_wind = xr.open_mfdataset(f'{DATADIR}10m_u_component_of_wind/*.nc', combine='by_coords')\n",
    "v_wind = xr.open_mfdataset(f'{DATADIR}10m_v_component_of_wind/*.nc', combine='by_coords')\n",
    "temp_2m = xr.open_mfdataset(f'{DATADIR}2m_temperature/*.nc', combine='by_coords')\n",
    "constants = xr.open_mfdataset(f'{DATADIR}constants/*.nc', combine='by_coords')\n",
    "geo_500 = xr.open_mfdataset(f'{DATADIR}geopotential_500/*.nc', combine='by_coords')\n",
    "pot_vort = xr.open_mfdataset(f'{DATADIR}potential_vorticity/*.nc', combine='by_coords')\n",
    "rel_hum = xr.open_mfdataset(f'{DATADIR}relative_humidity/*.nc', combine='by_coords')\n",
    "spec_hum = xr.open_mfdataset(f'{DATADIR}specific_humidity/*.nc', combine='by_coords')\n",
    "temp850 = xr.open_mfdataset(f'{DATADIR}temperature_850/*.nc', combine='by_coords')\n",
    "solar = xr.open_mfdataset(f'{DATADIR}toa_incident_solar_radiation/*.nc', combine='by_coords')\n",
    "cloud_cover = xr.open_mfdataset(f'{DATADIR}total_cloud_cover/*.nc', combine='by_coords')\n",
    "precip = xr.open_mfdataset(f'{DATADIR}total_precipitation/*.nc', combine='by_coords')\n",
    "vort = xr.open_mfdataset(f'{DATADIR}vorticity/*.nc', combine='by_coords')"
   ]
  },
  {
   "cell_type": "code",
   "execution_count": 7,
   "metadata": {},
   "outputs": [],
   "source": [
    "geo_500_north = geo_500.sel(lat=slice(23, 90))\n",
    "geo_500_south = geo_500.sel(lat=slice(-90, -23))\n",
    "\n",
    "t850_north = temp850.sel(lat=slice(23, 90))\n",
    "t850_south = temp850.sel(lat=slice(-90, -23))"
   ]
  },
  {
   "cell_type": "code",
   "execution_count": 8,
   "metadata": {},
   "outputs": [],
   "source": [
    "variables = [\n",
    "             u_wind.u10, v_wind.v10, temp_2m.t2m, geo_500.z, pot_vort.pv.sel(level = 500), pot_vort.pv.sel(level=850),\n",
    "             rel_hum.r.sel(level = 500), rel_hum.r.sel(level=850), spec_hum.q.sel(level=500),\n",
    "             spec_hum.q.sel(level=850), temp850.t, solar.tisr, cloud_cover.tcc, precip.tp, \n",
    "             vort.vo.sel(level=500), vort.vo.sel(level=850)\n",
    "            ]\n",
    "variables_str = [\n",
    "             'u_wind', 'v_wind', 'temp_2m', 'geo_500', 'pot_vort_500', 'pot_vort_850',\n",
    "             'rel_hum_500', 'rel_hum_850', 'spec_hum_500',\n",
    "             'spec_hum_850', 'temp850', 'solar', 'cloud_cover', 'precip', \n",
    "             'vort_500', 'vort_850'\n",
    "            ]\n",
    "\n",
    "def correlation_variables_table(data_list, y, lead_time):\n",
    "    correlation_list = []\n",
    "    \n",
    "    y_corr = y.sel(time = slice(y.time[lead_time], None))\n",
    "    \n",
    "    for i in variables:\n",
    "        i_known = i.sel(time = slice(None, i.time[-(lead_time +1)]))        \n",
    "        correlation_list.append(correlation(i_known, y_corr).values)    \n",
    "\n",
    "    return correlation_list\n"
   ]
  },
  {
   "cell_type": "code",
   "execution_count": null,
   "metadata": {},
   "outputs": [
    {
     "name": "stdout",
     "output_type": "stream",
     "text": [
      "temp done\n"
     ]
    }
   ],
   "source": [
    "temp850_corr = correlation_variables_table(variables, temp850.t, lead_time = 0)\n",
    "temp850_corr_north = correlation_variables_table(variables, t850_north.t, lead_time = 0)\n",
    "temp850_corr_south = correlation_variables_table(variables, t850_south.t, lead_time = 0)\n",
    "\n",
    "print('temp done')\n",
    "\n",
    "geo500_corr = correlation_variables_table(variables, geo_500.z, lead_time = 0)\n",
    "geo500_corr_north = correlation_variables_table(variables, geo_500_north.z, lead_time = 0)\n",
    "geo500_corr_south = correlation_variables_table(variables, geo_500_south.z, lead_time = 0)"
   ]
  },
  {
   "cell_type": "code",
   "execution_count": null,
   "metadata": {},
   "outputs": [],
   "source": [
    "df = pd.concat([pd.DataFrame(variables_str, columns = ['Variable names']), pd.DataFrame(temp850_corr, columns = ['Corr_tmp_850 full']), pd.DataFrame(temp850_corr_north, columns = ['Corr_tmp_850 north']), pd.DataFrame(temp850_corr_south, columns = ['Corr_tmp_850 south'])], axis = 1)\n",
    "\n",
    "df.style.applymap(color_negative_red, subset=['Corr_tmp_850 full', 'Corr_tmp_850 north', 'Corr_tmp_850 south'])"
   ]
  },
  {
   "cell_type": "code",
   "execution_count": null,
   "metadata": {},
   "outputs": [],
   "source": [
    "df = pd.concat([pd.DataFrame(variables_str, columns = ['Variable names']), pd.DataFrame(geo500_corr, columns = ['Corr_geo_500 full']), pd.DataFrame(geo500_corr_north, columns = ['Corr_geo_500 north']), pd.DataFrame(geo500_corr_south, columns = ['Corr_geo_500 south'])], axis = 1)\n",
    "\n",
    "df.style.applymap(color_negative_red, subset=['Corr_geo_500 full', 'Corr_geo_500 north', 'Corr_geo_500 south'])"
   ]
  },
  {
   "cell_type": "code",
   "execution_count": null,
   "metadata": {},
   "outputs": [],
   "source": [
    "constant_variables_str = []\n",
    "corr_tmp_850_const = []\n",
    "corr_z500_const = []\n",
    "\n",
    "constant_variables_str.append('orography')\n",
    "#corr_tmp_850_const.append(np.mean([correlation(constants.orography, temp850.t.isel(time = np.int(100*i))).values for i in range(np.int(len(temp850.t)/100))]))\n",
    "corr_z500_north_const.append(np.mean([correlation(constants.orography, geo_500_north.z.isel(time = np.int(100*i))).values for i in range(np.int(len(geo_500_north.z)/100))]))\n",
    "corr_z500_const.append(np.mean([correlation(constants.orography, geo_500.z.isel(time = np.int(100*i))).values for i in range(np.int(len(geo_500.z)/100))]))\n",
    "corr_z500_south_const.append(np.mean([correlation(constants.orography, geo_500_south.z.isel(time = np.int(100*i))).values for i in range(np.int(len(geo_500_south.z)/100))]))\n",
    "\n",
    "\n",
    "constant_variables_str.append('lsm')\n",
    "#corr_tmp_850_const.append(np.mean([correlation(constants.lsm, temp850.t.isel(time = np.int(100*i))).values for i in range(np.int(len(temp850.t)/100))]))\n",
    "corr_z500_north_const.append(np.mean([correlation(constants.lsm, geo_500_north.z.isel(time = np.int(100*i))).values for i in range(np.int(len(geo_500_north.z)/100))]))\n",
    "corr_z500_const.append(np.mean([correlation(constants.lsm, geo_500.z.isel(time = np.int(100*i))).values for i in range(np.int(len(geo_500.z)/100))]))\n",
    "corr_z500_south_const.append(np.mean([correlation(constants.lsm, geo_500_south.z.isel(time = np.int(100*i))).values for i in range(np.int(len(geo_500_south.z)/100))]))\n",
    "\n",
    "\n",
    "constant_variables_str.append('slt')\n",
    "#corr_tmp_850_const.append(np.mean([correlation(constants.slt, temp850.t.isel(time = np.int(100*i))).values for i in range(np.int(len(temp850.t)/100))]))\n",
    "corr_z500_north_const.append(np.mean([correlation(constants.slt, geo_500_north.z.isel(time = np.int(100*i))).values for i in range(np.int(len(geo_500_north.z)/100))]))\n",
    "corr_z500_const.append(np.mean([correlation(constants.slt, geo_500.z.isel(time = np.int(100*i))).values for i in range(np.int(len(geo_500.z)/100))]))\n",
    "corr_z500_south_const.append(np.mean([correlation(constants.slt, geo_500_south.z.isel(time = np.int(100*i))).values for i in range(np.int(len(geo_500_south.z)/100))]))\n",
    "\n",
    "\n",
    "constant_variables_str.append('lat')\n",
    "corr_z500_north_const.append(np.mean([correlation(constants.lat2d, geo_500_north.z.isel(time = np.int(100*i))).values for i in range(np.int(len(geo_500_north.z)/100))]))\n",
    "corr_z500_const.append(np.mean([correlation(constants.lat2d, geo_500.z.isel(time = np.int(100*i))).values for i in range(np.int(len(geo_500.z)/100))]))\n",
    "corr_z500_south_const.append(np.mean([correlation(constants.lat2d, geo_500_south.z.isel(time = np.int(100*i))).values for i in range(np.int(len(geo_500_south.z)/100))]))\n",
    "\n",
    "constant_variables_str.append('lon')\n",
    "corr_z500_north_const.append(np.mean([correlation(constants.lon2d, geo_500_north.z.isel(time = np.int(100*i))).values for i in range(np.int(len(geo_500_north.z)/100))]))\n",
    "corr_z500_const.append(np.mean([correlation(constants.lon2d, geo_500.z.isel(time = np.int(100*i))).values for i in range(np.int(len(geo_500.z)/100))]))\n",
    "corr_z500_south_const.append(np.mean([correlation(constants.lon2d, geo_500_south.z.isel(time = np.int(100*i))).values for i in range(np.int(len(geo_500_south.z)/100))]))\n",
    "\n",
    "\n",
    "#df = pd.concat([pd.DataFrame(constant_variables_str, columns = ['Variable names']), pd.DataFrame(corr_tmp_850_const, columns = ['Corr tmp_850']), pd.DataFrame(corr_z500_const, columns = ['Corr z500'])], axis = 1)\n",
    "\n",
    "df = pd.concat([pd.DataFrame(constant_variables_str, columns = ['Variable names']),pd.DataFrame(corr_z500_const, columns = ['Corr z500'])], axis = 1)\n",
    "\n",
    "df.style.applymap(color_negative_red, subset=['Corr z500'])\n"
   ]
  },
  {
   "cell_type": "code",
   "execution_count": null,
   "metadata": {},
   "outputs": [],
   "source": [
    "df = pd.concat([pd.DataFrame(constant_variables_str, columns = ['Variable names']),pd.DataFrame(corr_z500_const, columns = ['Corr z500'])], axis = 1)\n",
    "df.style.applymap(color_negative_red, subset=['Corr z500'])\n",
    "df"
   ]
  }
 ],
 "metadata": {
  "kernelspec": {
   "display_name": "Python3.6 (test1)",
   "language": "python",
   "name": "python3_test1"
  },
  "language_info": {
   "codemirror_mode": {
    "name": "ipython",
    "version": 3
   },
   "file_extension": ".py",
   "mimetype": "text/x-python",
   "name": "python",
   "nbconvert_exporter": "python",
   "pygments_lexer": "ipython3",
   "version": "3.6.12"
  }
 },
 "nbformat": 4,
 "nbformat_minor": 2
}
