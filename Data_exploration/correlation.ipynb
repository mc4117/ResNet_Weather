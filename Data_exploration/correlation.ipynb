{
 "cells": [
  {
   "cell_type": "code",
   "execution_count": 1,
   "metadata": {},
   "outputs": [],
   "source": [
    "import xarray as xr\n",
    "\n",
    "import matplotlib.pyplot as plt\n",
    "import pandas as pd\n",
    "import numpy as np"
   ]
  },
  {
   "cell_type": "code",
   "execution_count": 2,
   "metadata": {},
   "outputs": [],
   "source": [
    "DATADIR = '/rds/general/user/mc4117/home/WeatherBench/data/'  "
   ]
  },
  {
   "cell_type": "code",
   "execution_count": 3,
   "metadata": {},
   "outputs": [
    {
     "name": "stdout",
     "output_type": "stream",
     "text": [
      "10m_u_component_of_wind  potential_vorticity\t       total_cloud_cover\n",
      "10m_v_component_of_wind  relative_humidity\t       total_precipitation\n",
      "2m_temperature\t\t specific_humidity\t       u_component_of_wind\n",
      "constants\t\t temperature\t\t       v_component_of_wind\n",
      "geopotential\t\t temperature_850\t       vorticity\n",
      "geopotential_500\t toa_incident_solar_radiation\n"
     ]
    }
   ],
   "source": [
    "! ls $DATADIR"
   ]
  },
  {
   "cell_type": "code",
   "execution_count": 4,
   "metadata": {},
   "outputs": [],
   "source": [
    "def covariance(x, y, dim=None):\n",
    "    valid_values = x.notnull() & y.notnull()\n",
    "    valid_count = valid_values.sum(dim)\n",
    "\n",
    "    demeaned_x = (x - x.mean(dim)).fillna(0)\n",
    "    demeaned_y = (y - y.mean(dim)).fillna(0)\n",
    "    \n",
    "    return xr.dot(demeaned_x, demeaned_y, dims=dim) / valid_count\n",
    "\n",
    "def correlation(x, y, dim=None):\n",
    "    # dim should default to the intersection of x.dims and y.dims\n",
    "    return covariance(x, y, dim) / (x.std(dim) * y.std(dim))"
   ]
  },
  {
   "cell_type": "code",
   "execution_count": 5,
   "metadata": {},
   "outputs": [],
   "source": [
    "u_wind = xr.open_mfdataset(f'{DATADIR}10m_u_component_of_wind/*.nc', combine='by_coords')\n",
    "v_wind = xr.open_mfdataset(f'{DATADIR}10m_v_component_of_wind/*.nc', combine='by_coords')\n",
    "temp_2m = xr.open_mfdataset(f'{DATADIR}2m_temperature/*.nc', combine='by_coords')\n",
    "constants = xr.open_mfdataset(f'{DATADIR}constants/*.nc', combine='by_coords')\n",
    "geo_500 = xr.open_mfdataset(f'{DATADIR}geopotential_500/*.nc', combine='by_coords')\n",
    "pot_vort = xr.open_mfdataset(f'{DATADIR}potential_vorticity/*.nc', combine='by_coords')\n",
    "rel_hum = xr.open_mfdataset(f'{DATADIR}relative_humidity/*.nc', combine='by_coords')\n",
    "spec_hum = xr.open_mfdataset(f'{DATADIR}specific_humidity/*.nc', combine='by_coords')\n",
    "temp850 = xr.open_mfdataset(f'{DATADIR}temperature_850/*.nc', combine='by_coords')\n",
    "solar = xr.open_mfdataset(f'{DATADIR}toa_incident_solar_radiation/*.nc', combine='by_coords')\n",
    "cloud_cover = xr.open_mfdataset(f'{DATADIR}total_cloud_cover/*.nc', combine='by_coords')\n",
    "precip = xr.open_mfdataset(f'{DATADIR}total_precipitation/*.nc', combine='by_coords')\n",
    "vort = xr.open_mfdataset(f'{DATADIR}vorticity/*.nc', combine='by_coords')"
   ]
  },
  {
   "cell_type": "code",
   "execution_count": 6,
   "metadata": {},
   "outputs": [],
   "source": [
    "variables = [\n",
    "             u_wind.u10, v_wind.v10, temp_2m.t2m, geo_500.z, pot_vort.pv.sel(level = 500), pot_vort.pv.sel(level=850),\n",
    "             rel_hum.r.sel(level = 500), rel_hum.r.sel(level=850), spec_hum.q.sel(level=500),\n",
    "             spec_hum.q.sel(level=850), temp850.t, solar.tisr, cloud_cover.tcc, precip.tp, \n",
    "             vort.vo.sel(level=500), vort.vo.sel(level=850)\n",
    "            ]\n",
    "variables_str = [\n",
    "             'u_wind', 'v_wind', 'temp_2m', 'geo_500', 'pot_vort_500', 'pot_vort_850',\n",
    "             'rel_hum_500', 'rel_hum_850', 'spec_hum_500',\n",
    "             'spec_hum_850', 'temp850', 'solar', 'cloud_cover', 'precip', \n",
    "             'vort_500', 'vort_850'\n",
    "            ]\n",
    "correlation_tmp_850 = []\n",
    "correlation_z500 = []\n",
    "\n",
    "for i in variables:\n",
    "    correlation_tmp_850.append(correlation(i, temp850.t).values)\n",
    "    correlation_z500.append(correlation(i, geo_500.z).values)\n"
   ]
  },
  {
   "cell_type": "code",
   "execution_count": 7,
   "metadata": {},
   "outputs": [],
   "source": [
    "variables_str.append('orography')\n",
    "correlation_tmp_850.append(np.mean([correlation(constants.orography, temp850.t.isel(time = np.int(100*i))).values for i in range(np.int(len(temp850.t)/100))]))\n",
    "correlation_z500.append(np.mean([correlation(constants.orography, geo_500.z.isel(time = np.int(100*i))).values for i in range(np.int(len(geo_500.z)/100))]))\n",
    "\n",
    "variables_str.append('lsm')\n",
    "correlation_tmp_850.append(np.mean([correlation(constants.lsm, temp850.t.isel(time = np.int(100*i))).values for i in range(np.int(len(temp850.t)/100))]))\n",
    "correlation_z500.append(np.mean([correlation(constants.lsm, geo_500.z.isel(time = np.int(100*i))).values for i in range(np.int(len(geo_500.z)/100))]))\n",
    "\n",
    "variables_str.append('slt')\n",
    "correlation_tmp_850.append(np.mean([correlation(constants.slt, temp850.t.isel(time = np.int(100*i))).values for i in range(np.int(len(temp850.t)/100))]))\n",
    "correlation_z500.append(np.mean([correlation(constants.slt, geo_500.z.isel(time = np.int(100*i))).values for i in range(np.int(len(geo_500.z)/100))]))\n"
   ]
  },
  {
   "cell_type": "code",
   "execution_count": 8,
   "metadata": {},
   "outputs": [
    {
     "data": {
      "text/html": [
       "<style  type=\"text/css\" >\n",
       "#T_739b7614_028b_11eb_a995_4d79a25b2c97row0_col1,#T_739b7614_028b_11eb_a995_4d79a25b2c97row0_col2,#T_739b7614_028b_11eb_a995_4d79a25b2c97row1_col1,#T_739b7614_028b_11eb_a995_4d79a25b2c97row1_col2,#T_739b7614_028b_11eb_a995_4d79a25b2c97row4_col1,#T_739b7614_028b_11eb_a995_4d79a25b2c97row4_col2,#T_739b7614_028b_11eb_a995_4d79a25b2c97row5_col1,#T_739b7614_028b_11eb_a995_4d79a25b2c97row5_col2,#T_739b7614_028b_11eb_a995_4d79a25b2c97row12_col1,#T_739b7614_028b_11eb_a995_4d79a25b2c97row13_col1,#T_739b7614_028b_11eb_a995_4d79a25b2c97row13_col2,#T_739b7614_028b_11eb_a995_4d79a25b2c97row14_col1,#T_739b7614_028b_11eb_a995_4d79a25b2c97row14_col2,#T_739b7614_028b_11eb_a995_4d79a25b2c97row15_col1,#T_739b7614_028b_11eb_a995_4d79a25b2c97row15_col2,#T_739b7614_028b_11eb_a995_4d79a25b2c97row17_col1,#T_739b7614_028b_11eb_a995_4d79a25b2c97row17_col2,#T_739b7614_028b_11eb_a995_4d79a25b2c97row18_col1,#T_739b7614_028b_11eb_a995_4d79a25b2c97row18_col2{\n",
       "            color:  red;\n",
       "        }#T_739b7614_028b_11eb_a995_4d79a25b2c97row2_col1,#T_739b7614_028b_11eb_a995_4d79a25b2c97row2_col2,#T_739b7614_028b_11eb_a995_4d79a25b2c97row3_col1,#T_739b7614_028b_11eb_a995_4d79a25b2c97row3_col2,#T_739b7614_028b_11eb_a995_4d79a25b2c97row8_col1,#T_739b7614_028b_11eb_a995_4d79a25b2c97row8_col2,#T_739b7614_028b_11eb_a995_4d79a25b2c97row9_col1,#T_739b7614_028b_11eb_a995_4d79a25b2c97row9_col2,#T_739b7614_028b_11eb_a995_4d79a25b2c97row10_col1,#T_739b7614_028b_11eb_a995_4d79a25b2c97row10_col2{\n",
       "            color:  green;\n",
       "        }#T_739b7614_028b_11eb_a995_4d79a25b2c97row6_col1,#T_739b7614_028b_11eb_a995_4d79a25b2c97row6_col2,#T_739b7614_028b_11eb_a995_4d79a25b2c97row7_col1,#T_739b7614_028b_11eb_a995_4d79a25b2c97row7_col2,#T_739b7614_028b_11eb_a995_4d79a25b2c97row11_col1,#T_739b7614_028b_11eb_a995_4d79a25b2c97row11_col2,#T_739b7614_028b_11eb_a995_4d79a25b2c97row12_col2,#T_739b7614_028b_11eb_a995_4d79a25b2c97row16_col1,#T_739b7614_028b_11eb_a995_4d79a25b2c97row16_col2{\n",
       "            color:  black;\n",
       "        }</style><table id=\"T_739b7614_028b_11eb_a995_4d79a25b2c97\" ><thead>    <tr>        <th class=\"blank level0\" ></th>        <th class=\"col_heading level0 col0\" >Variable names</th>        <th class=\"col_heading level0 col1\" >Corr tmp_850</th>        <th class=\"col_heading level0 col2\" >Corr z500</th>    </tr></thead><tbody>\n",
       "                <tr>\n",
       "                        <th id=\"T_739b7614_028b_11eb_a995_4d79a25b2c97level0_row0\" class=\"row_heading level0 row0\" >0</th>\n",
       "                        <td id=\"T_739b7614_028b_11eb_a995_4d79a25b2c97row0_col0\" class=\"data row0 col0\" >u_wind</td>\n",
       "                        <td id=\"T_739b7614_028b_11eb_a995_4d79a25b2c97row0_col1\" class=\"data row0 col1\" >-0.135888</td>\n",
       "                        <td id=\"T_739b7614_028b_11eb_a995_4d79a25b2c97row0_col2\" class=\"data row0 col2\" >-0.184077</td>\n",
       "            </tr>\n",
       "            <tr>\n",
       "                        <th id=\"T_739b7614_028b_11eb_a995_4d79a25b2c97level0_row1\" class=\"row_heading level0 row1\" >1</th>\n",
       "                        <td id=\"T_739b7614_028b_11eb_a995_4d79a25b2c97row1_col0\" class=\"data row1 col0\" >v_wind</td>\n",
       "                        <td id=\"T_739b7614_028b_11eb_a995_4d79a25b2c97row1_col1\" class=\"data row1 col1\" >-0.050567</td>\n",
       "                        <td id=\"T_739b7614_028b_11eb_a995_4d79a25b2c97row1_col2\" class=\"data row1 col2\" >-0.032529</td>\n",
       "            </tr>\n",
       "            <tr>\n",
       "                        <th id=\"T_739b7614_028b_11eb_a995_4d79a25b2c97level0_row2\" class=\"row_heading level0 row2\" >2</th>\n",
       "                        <td id=\"T_739b7614_028b_11eb_a995_4d79a25b2c97row2_col0\" class=\"data row2 col0\" >temp_2m</td>\n",
       "                        <td id=\"T_739b7614_028b_11eb_a995_4d79a25b2c97row2_col1\" class=\"data row2 col1\" >0.946879</td>\n",
       "                        <td id=\"T_739b7614_028b_11eb_a995_4d79a25b2c97row2_col2\" class=\"data row2 col2\" >0.881812</td>\n",
       "            </tr>\n",
       "            <tr>\n",
       "                        <th id=\"T_739b7614_028b_11eb_a995_4d79a25b2c97level0_row3\" class=\"row_heading level0 row3\" >3</th>\n",
       "                        <td id=\"T_739b7614_028b_11eb_a995_4d79a25b2c97row3_col0\" class=\"data row3 col0\" >geo_500</td>\n",
       "                        <td id=\"T_739b7614_028b_11eb_a995_4d79a25b2c97row3_col1\" class=\"data row3 col1\" >0.934679</td>\n",
       "                        <td id=\"T_739b7614_028b_11eb_a995_4d79a25b2c97row3_col2\" class=\"data row3 col2\" >1.000000</td>\n",
       "            </tr>\n",
       "            <tr>\n",
       "                        <th id=\"T_739b7614_028b_11eb_a995_4d79a25b2c97level0_row4\" class=\"row_heading level0 row4\" >4</th>\n",
       "                        <td id=\"T_739b7614_028b_11eb_a995_4d79a25b2c97row4_col0\" class=\"data row4 col0\" >pot_vort_500</td>\n",
       "                        <td id=\"T_739b7614_028b_11eb_a995_4d79a25b2c97row4_col1\" class=\"data row4 col1\" >0.149889</td>\n",
       "                        <td id=\"T_739b7614_028b_11eb_a995_4d79a25b2c97row4_col2\" class=\"data row4 col2\" >0.202430</td>\n",
       "            </tr>\n",
       "            <tr>\n",
       "                        <th id=\"T_739b7614_028b_11eb_a995_4d79a25b2c97level0_row5\" class=\"row_heading level0 row5\" >5</th>\n",
       "                        <td id=\"T_739b7614_028b_11eb_a995_4d79a25b2c97row5_col0\" class=\"data row5 col0\" >pot_vort_850</td>\n",
       "                        <td id=\"T_739b7614_028b_11eb_a995_4d79a25b2c97row5_col1\" class=\"data row5 col1\" >0.231328</td>\n",
       "                        <td id=\"T_739b7614_028b_11eb_a995_4d79a25b2c97row5_col2\" class=\"data row5 col2\" >0.219269</td>\n",
       "            </tr>\n",
       "            <tr>\n",
       "                        <th id=\"T_739b7614_028b_11eb_a995_4d79a25b2c97level0_row6\" class=\"row_heading level0 row6\" >6</th>\n",
       "                        <td id=\"T_739b7614_028b_11eb_a995_4d79a25b2c97row6_col0\" class=\"data row6 col0\" >rel_hum_500</td>\n",
       "                        <td id=\"T_739b7614_028b_11eb_a995_4d79a25b2c97row6_col1\" class=\"data row6 col1\" >-0.412299</td>\n",
       "                        <td id=\"T_739b7614_028b_11eb_a995_4d79a25b2c97row6_col2\" class=\"data row6 col2\" >-0.459123</td>\n",
       "            </tr>\n",
       "            <tr>\n",
       "                        <th id=\"T_739b7614_028b_11eb_a995_4d79a25b2c97level0_row7\" class=\"row_heading level0 row7\" >7</th>\n",
       "                        <td id=\"T_739b7614_028b_11eb_a995_4d79a25b2c97row7_col0\" class=\"data row7 col0\" >rel_hum_850</td>\n",
       "                        <td id=\"T_739b7614_028b_11eb_a995_4d79a25b2c97row7_col1\" class=\"data row7 col1\" >-0.351307</td>\n",
       "                        <td id=\"T_739b7614_028b_11eb_a995_4d79a25b2c97row7_col2\" class=\"data row7 col2\" >-0.338311</td>\n",
       "            </tr>\n",
       "            <tr>\n",
       "                        <th id=\"T_739b7614_028b_11eb_a995_4d79a25b2c97level0_row8\" class=\"row_heading level0 row8\" >8</th>\n",
       "                        <td id=\"T_739b7614_028b_11eb_a995_4d79a25b2c97row8_col0\" class=\"data row8 col0\" >spec_hum_500</td>\n",
       "                        <td id=\"T_739b7614_028b_11eb_a995_4d79a25b2c97row8_col1\" class=\"data row8 col1\" >0.535203</td>\n",
       "                        <td id=\"T_739b7614_028b_11eb_a995_4d79a25b2c97row8_col2\" class=\"data row8 col2\" >0.504809</td>\n",
       "            </tr>\n",
       "            <tr>\n",
       "                        <th id=\"T_739b7614_028b_11eb_a995_4d79a25b2c97level0_row9\" class=\"row_heading level0 row9\" >9</th>\n",
       "                        <td id=\"T_739b7614_028b_11eb_a995_4d79a25b2c97row9_col0\" class=\"data row9 col0\" >spec_hum_850</td>\n",
       "                        <td id=\"T_739b7614_028b_11eb_a995_4d79a25b2c97row9_col1\" class=\"data row9 col1\" >0.760842</td>\n",
       "                        <td id=\"T_739b7614_028b_11eb_a995_4d79a25b2c97row9_col2\" class=\"data row9 col2\" >0.735187</td>\n",
       "            </tr>\n",
       "            <tr>\n",
       "                        <th id=\"T_739b7614_028b_11eb_a995_4d79a25b2c97level0_row10\" class=\"row_heading level0 row10\" >10</th>\n",
       "                        <td id=\"T_739b7614_028b_11eb_a995_4d79a25b2c97row10_col0\" class=\"data row10 col0\" >temp850</td>\n",
       "                        <td id=\"T_739b7614_028b_11eb_a995_4d79a25b2c97row10_col1\" class=\"data row10 col1\" >1.000000</td>\n",
       "                        <td id=\"T_739b7614_028b_11eb_a995_4d79a25b2c97row10_col2\" class=\"data row10 col2\" >0.934679</td>\n",
       "            </tr>\n",
       "            <tr>\n",
       "                        <th id=\"T_739b7614_028b_11eb_a995_4d79a25b2c97level0_row11\" class=\"row_heading level0 row11\" >11</th>\n",
       "                        <td id=\"T_739b7614_028b_11eb_a995_4d79a25b2c97row11_col0\" class=\"data row11 col0\" >solar</td>\n",
       "                        <td id=\"T_739b7614_028b_11eb_a995_4d79a25b2c97row11_col1\" class=\"data row11 col1\" >0.278942</td>\n",
       "                        <td id=\"T_739b7614_028b_11eb_a995_4d79a25b2c97row11_col2\" class=\"data row11 col2\" >0.260888</td>\n",
       "            </tr>\n",
       "            <tr>\n",
       "                        <th id=\"T_739b7614_028b_11eb_a995_4d79a25b2c97level0_row12\" class=\"row_heading level0 row12\" >12</th>\n",
       "                        <td id=\"T_739b7614_028b_11eb_a995_4d79a25b2c97row12_col0\" class=\"data row12 col0\" >cloud_cover</td>\n",
       "                        <td id=\"T_739b7614_028b_11eb_a995_4d79a25b2c97row12_col1\" class=\"data row12 col1\" >-0.240645</td>\n",
       "                        <td id=\"T_739b7614_028b_11eb_a995_4d79a25b2c97row12_col2\" class=\"data row12 col2\" >-0.252544</td>\n",
       "            </tr>\n",
       "            <tr>\n",
       "                        <th id=\"T_739b7614_028b_11eb_a995_4d79a25b2c97level0_row13\" class=\"row_heading level0 row13\" >13</th>\n",
       "                        <td id=\"T_739b7614_028b_11eb_a995_4d79a25b2c97row13_col0\" class=\"data row13 col0\" >precip</td>\n",
       "                        <td id=\"T_739b7614_028b_11eb_a995_4d79a25b2c97row13_col1\" class=\"data row13 col1\" >0.115605</td>\n",
       "                        <td id=\"T_739b7614_028b_11eb_a995_4d79a25b2c97row13_col2\" class=\"data row13 col2\" >0.079974</td>\n",
       "            </tr>\n",
       "            <tr>\n",
       "                        <th id=\"T_739b7614_028b_11eb_a995_4d79a25b2c97level0_row14\" class=\"row_heading level0 row14\" >14</th>\n",
       "                        <td id=\"T_739b7614_028b_11eb_a995_4d79a25b2c97row14_col0\" class=\"data row14 col0\" >vort_500</td>\n",
       "                        <td id=\"T_739b7614_028b_11eb_a995_4d79a25b2c97row14_col1\" class=\"data row14 col1\" >-0.004858</td>\n",
       "                        <td id=\"T_739b7614_028b_11eb_a995_4d79a25b2c97row14_col2\" class=\"data row14 col2\" >0.024222</td>\n",
       "            </tr>\n",
       "            <tr>\n",
       "                        <th id=\"T_739b7614_028b_11eb_a995_4d79a25b2c97level0_row15\" class=\"row_heading level0 row15\" >15</th>\n",
       "                        <td id=\"T_739b7614_028b_11eb_a995_4d79a25b2c97row15_col0\" class=\"data row15 col0\" >vort_850</td>\n",
       "                        <td id=\"T_739b7614_028b_11eb_a995_4d79a25b2c97row15_col1\" class=\"data row15 col1\" >-0.007616</td>\n",
       "                        <td id=\"T_739b7614_028b_11eb_a995_4d79a25b2c97row15_col2\" class=\"data row15 col2\" >0.015345</td>\n",
       "            </tr>\n",
       "            <tr>\n",
       "                        <th id=\"T_739b7614_028b_11eb_a995_4d79a25b2c97level0_row16\" class=\"row_heading level0 row16\" >16</th>\n",
       "                        <td id=\"T_739b7614_028b_11eb_a995_4d79a25b2c97row16_col0\" class=\"data row16 col0\" >orography</td>\n",
       "                        <td id=\"T_739b7614_028b_11eb_a995_4d79a25b2c97row16_col1\" class=\"data row16 col1\" >-0.385886</td>\n",
       "                        <td id=\"T_739b7614_028b_11eb_a995_4d79a25b2c97row16_col2\" class=\"data row16 col2\" >-0.325298</td>\n",
       "            </tr>\n",
       "            <tr>\n",
       "                        <th id=\"T_739b7614_028b_11eb_a995_4d79a25b2c97level0_row17\" class=\"row_heading level0 row17\" >17</th>\n",
       "                        <td id=\"T_739b7614_028b_11eb_a995_4d79a25b2c97row17_col0\" class=\"data row17 col0\" >lsm</td>\n",
       "                        <td id=\"T_739b7614_028b_11eb_a995_4d79a25b2c97row17_col1\" class=\"data row17 col1\" >-0.214283</td>\n",
       "                        <td id=\"T_739b7614_028b_11eb_a995_4d79a25b2c97row17_col2\" class=\"data row17 col2\" >-0.189865</td>\n",
       "            </tr>\n",
       "            <tr>\n",
       "                        <th id=\"T_739b7614_028b_11eb_a995_4d79a25b2c97level0_row18\" class=\"row_heading level0 row18\" >18</th>\n",
       "                        <td id=\"T_739b7614_028b_11eb_a995_4d79a25b2c97row18_col0\" class=\"data row18 col0\" >nan</td>\n",
       "                        <td id=\"T_739b7614_028b_11eb_a995_4d79a25b2c97row18_col1\" class=\"data row18 col1\" >0.040490</td>\n",
       "                        <td id=\"T_739b7614_028b_11eb_a995_4d79a25b2c97row18_col2\" class=\"data row18 col2\" >0.047839</td>\n",
       "            </tr>\n",
       "    </tbody></table>"
      ],
      "text/plain": [
       "<pandas.io.formats.style.Styler at 0x2ae5abf97208>"
      ]
     },
     "execution_count": 8,
     "metadata": {},
     "output_type": "execute_result"
    }
   ],
   "source": [
    "df = pd.concat([pd.DataFrame(variables_str[:-1], columns = ['Variable names']), pd.DataFrame(correlation_tmp_850, columns = ['Corr tmp_850']), pd.DataFrame(correlation_z500, columns = ['Corr z500'])], axis = 1)\n",
    "\n",
    "def color_negative_red(value):\n",
    "\n",
    "    if abs(value) < 0.25:\n",
    "        color = 'red'\n",
    "    elif abs(value) > 0.5:\n",
    "        color = 'green'\n",
    "    else:\n",
    "        color = 'black'\n",
    "\n",
    "    return 'color: %s' % color\n",
    "\n",
    "df.style.applymap(color_negative_red, subset=['Corr tmp_850', 'Corr z500'])\n",
    "\n"
   ]
  },
  {
   "cell_type": "markdown",
   "metadata": {},
   "source": [
    "Solar radiation and cloud cover are closely inversely correlated so only need one. \n",
    "As solar radiation is just the daily sun patterns could be used as a variable to account for diurnal variations."
   ]
  }
 ],
 "metadata": {
  "kernelspec": {
   "display_name": "Python3.6 (test1)",
   "language": "python",
   "name": "python3_test1"
  },
  "language_info": {
   "codemirror_mode": {
    "name": "ipython",
    "version": 3
   },
   "file_extension": ".py",
   "mimetype": "text/x-python",
   "name": "python",
   "nbconvert_exporter": "python",
   "pygments_lexer": "ipython3",
   "version": "3.6.12"
  }
 },
 "nbformat": 4,
 "nbformat_minor": 2
}
