{
 "cells": [
  {
   "cell_type": "markdown",
   "metadata": {
    "Collapsed": "false"
   },
   "source": [
    "## Process the results of a residual CNN with 9 and 12 residual blocks with dropout"
   ]
  },
  {
   "cell_type": "code",
   "execution_count": 1,
   "metadata": {
    "Collapsed": "false"
   },
   "outputs": [],
   "source": [
    "%load_ext autoreload\n",
    "%autoreload 2"
   ]
  },
  {
   "cell_type": "code",
   "execution_count": 2,
   "metadata": {
    "Collapsed": "false"
   },
   "outputs": [],
   "source": [
    "# Depending on your combination of package versions, this can raise a lot of TF warnings... \n",
    "import numpy as np\n",
    "import matplotlib.pyplot as plt\n",
    "import xarray as xr\n",
    "import tensorflow as tf\n",
    "import tensorflow.keras as keras\n",
    "from tensorflow.keras.layers import *\n",
    "import tensorflow.keras.backend as K\n",
    "import seaborn as sns\n",
    "import pickle\n",
    "from src.score import *\n",
    "from collections import OrderedDict"
   ]
  },
  {
   "cell_type": "code",
   "execution_count": 3,
   "metadata": {},
   "outputs": [
    {
     "data": {
      "text/plain": [
       "'2.1.0'"
      ]
     },
     "execution_count": 3,
     "metadata": {},
     "output_type": "execute_result"
    }
   ],
   "source": [
    "tf.__version__"
   ]
  },
  {
   "cell_type": "code",
   "execution_count": 4,
   "metadata": {
    "Collapsed": "false"
   },
   "outputs": [],
   "source": [
    "def limit_mem():\n",
    "    \"\"\"By default TF uses all available GPU memory. This function prevents this.\"\"\"\n",
    "    config = tf.compat.v1.ConfigProto()\n",
    "    config.gpu_options.allow_growth = True\n",
    "    tf.compat.v1.Session(config=config)"
   ]
  },
  {
   "cell_type": "code",
   "execution_count": 5,
   "metadata": {
    "Collapsed": "false"
   },
   "outputs": [],
   "source": [
    "limit_mem()"
   ]
  },
  {
   "cell_type": "code",
   "execution_count": 6,
   "metadata": {
    "Collapsed": "false"
   },
   "outputs": [],
   "source": [
    "DATADIR = '/rds/general/user/mc4117/home/WeatherBench/data/'"
   ]
  },
  {
   "cell_type": "markdown",
   "metadata": {
    "Collapsed": "false"
   },
   "source": [
    "## Create data generator\n",
    "\n",
    "First up, we want to write our own Keras data generator. The key advantage to just feeding in numpy arrays is that we don't have to load the data twice because our intputs and outputs are the same data just offset by the lead time. Since the dataset is quite large and we might run out of CPU RAM this is important."
   ]
  },
  {
   "cell_type": "code",
   "execution_count": 7,
   "metadata": {
    "Collapsed": "false"
   },
   "outputs": [],
   "source": [
    "# Load the validation subset of the data: 2017 and 2018\n",
    "z500_valid = load_test_data(f'{DATADIR}geopotential_500', 'z')\n",
    "t850_valid = load_test_data(f'{DATADIR}temperature_850', 't')\n",
    "valid = xr.merge([z500_valid, t850_valid])"
   ]
  },
  {
   "cell_type": "code",
   "execution_count": 8,
   "metadata": {
    "Collapsed": "false"
   },
   "outputs": [],
   "source": [
    "z = xr.open_mfdataset(f'{DATADIR}geopotential_500/*.nc', combine='by_coords')\n",
    "t = xr.open_mfdataset(f'{DATADIR}temperature_850/*.nc', combine='by_coords').drop('level')"
   ]
  },
  {
   "cell_type": "code",
   "execution_count": 9,
   "metadata": {
    "Collapsed": "false"
   },
   "outputs": [],
   "source": [
    "# For the data generator all variables have to be merged into a single dataset.\n",
    "datasets = [z, t]\n",
    "ds = xr.merge(datasets)"
   ]
  },
  {
   "cell_type": "code",
   "execution_count": 10,
   "metadata": {
    "Collapsed": "false"
   },
   "outputs": [],
   "source": [
    "# In this notebook let's only load a subset of the training data\n",
    "ds_train = ds.sel(time=slice('1979', '2016'))  \n",
    "ds_test = ds.sel(time=slice('2017', '2018'))"
   ]
  },
  {
   "cell_type": "code",
   "execution_count": 11,
   "metadata": {
    "Collapsed": "false"
   },
   "outputs": [],
   "source": [
    "class DataGenerator(keras.utils.Sequence):\n",
    "    def __init__(self, ds, var_dict, lead_time, batch_size=32, shuffle=True, load=True, mean=None, std=None):\n",
    "        \"\"\"\n",
    "        Data generator for WeatherBench data.\n",
    "        Template from https://stanford.edu/~shervine/blog/keras-how-to-generate-data-on-the-fly\n",
    "        Args:\n",
    "            ds: Dataset containing all variables\n",
    "            var_dict: Dictionary of the form {'var': level}. Use None for level if data is of single level\n",
    "            lead_time: Lead time in hours\n",
    "            batch_size: Batch size\n",
    "            shuffle: bool. If True, data is shuffled.\n",
    "            load: bool. If True, datadet is loaded into RAM.\n",
    "            mean: If None, compute mean from data.\n",
    "            std: If None, compute standard deviation from data.\n",
    "        \"\"\"\n",
    "        self.ds = ds\n",
    "        self.var_dict = var_dict\n",
    "        self.batch_size = batch_size\n",
    "        self.shuffle = shuffle\n",
    "        self.lead_time = lead_time\n",
    "\n",
    "        data = []\n",
    "        generic_level = xr.DataArray([1], coords={'level': [1]}, dims=['level'])\n",
    "        for var, levels in var_dict.items():\n",
    "            try:\n",
    "                data.append(ds[var].sel(level=levels))\n",
    "            except ValueError:\n",
    "                data.append(ds[var].expand_dims({'level': generic_level}, 1))\n",
    "\n",
    "        self.data = xr.concat(data, 'level').transpose('time', 'lat', 'lon', 'level')\n",
    "        self.mean = self.data.mean(('time', 'lat', 'lon')).compute() if mean is None else mean\n",
    "        self.std = self.data.std('time').mean(('lat', 'lon')).compute() if std is None else std\n",
    "        # Normalize\n",
    "        self.data = (self.data - self.mean) / self.std\n",
    "        self.n_samples = self.data.isel(time=slice(0, -lead_time)).shape[0]\n",
    "        self.init_time = self.data.isel(time=slice(None, -lead_time)).time\n",
    "        self.valid_time = self.data.isel(time=slice(lead_time, None)).time\n",
    "\n",
    "        self.on_epoch_end()\n",
    "\n",
    "        # For some weird reason calling .load() earlier messes up the mean and std computations\n",
    "        if load: print('Loading data into RAM'); self.data.load()\n",
    "\n",
    "    def __len__(self):\n",
    "        'Denotes the number of batches per epoch'\n",
    "        return int(np.ceil(self.n_samples / self.batch_size))\n",
    "\n",
    "    def __getitem__(self, i):\n",
    "        'Generate one batch of data'\n",
    "        idxs = self.idxs[i * self.batch_size:(i + 1) * self.batch_size]\n",
    "        X = self.data.isel(time=idxs).values\n",
    "        y = self.data.isel(time=idxs + self.lead_time).values\n",
    "        return X, y\n",
    "\n",
    "    def on_epoch_end(self):\n",
    "        'Updates indexes after each epoch'\n",
    "        self.idxs = np.arange(self.n_samples)\n",
    "        if self.shuffle == True:\n",
    "            np.random.shuffle(self.idxs)"
   ]
  },
  {
   "cell_type": "code",
   "execution_count": 12,
   "metadata": {
    "Collapsed": "false"
   },
   "outputs": [],
   "source": [
    "# then we need a dictionary for all the variables and levels we want to extract from the dataset\n",
    "dic = OrderedDict({'z': None, 't': None})"
   ]
  },
  {
   "cell_type": "code",
   "execution_count": 13,
   "metadata": {
    "Collapsed": "false"
   },
   "outputs": [],
   "source": [
    "bs=32\n",
    "lead_time=72"
   ]
  },
  {
   "cell_type": "code",
   "execution_count": 14,
   "metadata": {
    "Collapsed": "false"
   },
   "outputs": [
    {
     "name": "stdout",
     "output_type": "stream",
     "text": [
      "Loading data into RAM\n",
      "Loading data into RAM\n"
     ]
    }
   ],
   "source": [
    "# Create a training and validation data generator. Use the train mean and std for validation as well.\n",
    "dg_train = DataGenerator(\n",
    "    ds_train.sel(time=slice('1979', '2015')), dic, lead_time, batch_size=bs, load=True)\n",
    "dg_valid = DataGenerator(\n",
    "    ds_train.sel(time=slice('2016', '2016')), dic, lead_time, batch_size=bs, mean=dg_train.mean, std=dg_train.std, shuffle=False)"
   ]
  },
  {
   "cell_type": "code",
   "execution_count": 15,
   "metadata": {
    "Collapsed": "false"
   },
   "outputs": [
    {
     "data": {
      "text/plain": [
       "(<xarray.DataArray 'z' (level: 2)>\n",
       " array([54108.312  ,   274.52628], dtype=float32)\n",
       " Coordinates:\n",
       "   * level    (level) int64 500 500,\n",
       " <xarray.DataArray 'z' (level: 2)>\n",
       " array([1114.979   ,    5.683259], dtype=float32)\n",
       " Coordinates:\n",
       "   * level    (level) int64 500 500)"
      ]
     },
     "execution_count": 15,
     "metadata": {},
     "output_type": "execute_result"
    }
   ],
   "source": [
    "dg_train.mean, dg_train.std"
   ]
  },
  {
   "cell_type": "code",
   "execution_count": 16,
   "metadata": {
    "Collapsed": "false"
   },
   "outputs": [
    {
     "name": "stdout",
     "output_type": "stream",
     "text": [
      "Loading data into RAM\n"
     ]
    }
   ],
   "source": [
    "# Now also a generator for testing. Impartant: Shuffle must be False!\n",
    "dg_test = DataGenerator(ds_test, dic, lead_time, batch_size=bs, mean=dg_train.mean, std=dg_train.std, shuffle=False)"
   ]
  },
  {
   "cell_type": "markdown",
   "metadata": {
    "Collapsed": "false"
   },
   "source": [
    "## Create and train model\n",
    "\n",
    "Next up, we need to create the model architecture. Here we will use a fully connected convolutional network. Because the Earth is periodic in longitude, we want to use a periodic convolution in the lon-direction. This is not implemented in Keras, so we have to do it manually."
   ]
  },
  {
   "cell_type": "code",
   "execution_count": 17,
   "metadata": {
    "Collapsed": "false"
   },
   "outputs": [],
   "source": [
    "class PeriodicPadding2D(tf.keras.layers.Layer):\n",
    "    def __init__(self, pad_width, **kwargs):\n",
    "        super().__init__(**kwargs)\n",
    "        self.pad_width = pad_width\n",
    "\n",
    "    def call(self, inputs, **kwargs):\n",
    "        if self.pad_width == 0:\n",
    "            return inputs\n",
    "        inputs_padded = tf.concat(\n",
    "            [inputs[:, :, -self.pad_width:, :], inputs, inputs[:, :, :self.pad_width, :]], axis=2)\n",
    "        # Zero padding in the lat direction\n",
    "        inputs_padded = tf.pad(inputs_padded, [[0, 0], [self.pad_width, self.pad_width], [0, 0], [0, 0]])\n",
    "        return inputs_padded\n",
    "\n",
    "    def get_config(self):\n",
    "        config = super().get_config()\n",
    "        config.update({'pad_width': self.pad_width})\n",
    "        return config\n",
    "\n",
    "\n",
    "class PeriodicConv2D(tf.keras.layers.Layer):\n",
    "    def __init__(self, filters,\n",
    "                 kernel_size,\n",
    "                 conv_kwargs={},\n",
    "                 **kwargs, ):\n",
    "        super().__init__(**kwargs)\n",
    "        self.filters = filters\n",
    "        self.kernel_size = kernel_size\n",
    "        self.conv_kwargs = conv_kwargs\n",
    "        if type(kernel_size) is not int:\n",
    "            assert kernel_size[0] == kernel_size[1], 'PeriodicConv2D only works for square kernels'\n",
    "            kernel_size = kernel_size[0]\n",
    "        pad_width = (kernel_size - 1) // 2\n",
    "        self.padding = PeriodicPadding2D(pad_width)\n",
    "        self.conv = Conv2D(\n",
    "            filters, kernel_size, padding='valid', **conv_kwargs\n",
    "        )\n",
    "\n",
    "    def call(self, inputs):\n",
    "        return self.conv(self.padding(inputs))\n",
    "\n",
    "    def get_config(self):\n",
    "        config = super().get_config()\n",
    "        config.update({'filters': self.filters, 'kernel_size': self.kernel_size, 'conv_kwargs': self.conv_kwargs})\n",
    "        return config"
   ]
  },
  {
   "cell_type": "code",
   "execution_count": 18,
   "metadata": {
    "Collapsed": "false"
   },
   "outputs": [],
   "source": [
    "def convblock(inputs, f, k, l2, dr = 0):\n",
    "    x = inputs\n",
    "    if l2 is not None:\n",
    "        x = PeriodicConv2D(f, k, conv_kwargs={\n",
    "            'kernel_regularizer': keras.regularizers.l2(l2)})(x)\n",
    "    else:\n",
    "        x = PeriodicConv2D(f, k)(x)\n",
    "    x = LeakyReLU()(x)\n",
    "    x = BatchNormalization()(x)\n",
    "    if dr>0: x = Dropout(dr)(x, training = True)\n",
    "\n",
    "    return x\n",
    "\n",
    "def build_resnet_cnn(filters, kernels, input_shape, l2 = None, dr = 0, skip = True):\n",
    "    \"\"\"Fully convolutional residual network\"\"\"\n",
    "\n",
    "    x = input = Input(shape=input_shape)\n",
    "    x = convblock(x, filters[0], kernels[0], dr)\n",
    "\n",
    "    #Residual blocks\n",
    "    for f, k in zip(filters[1:-1], kernels[1:-1]):\n",
    "        y = x\n",
    "        for _ in range(2):\n",
    "            x = convblock(x, f, k, l2, dr)\n",
    "        if skip: x = Add()([y, x])\n",
    "\n",
    "    output = PeriodicConv2D(filters[-1], kernels[-1])(x)\n",
    "\n",
    "    return keras.models.Model(input, output)"
   ]
  },
  {
   "cell_type": "code",
   "execution_count": 19,
   "metadata": {
    "Collapsed": "false"
   },
   "outputs": [],
   "source": [
    "block_no = 2\n",
    "\n",
    "filt = [64]\n",
    "kern = [5]\n",
    "\n",
    "for i in range(int(block_no)):\n",
    "    filt.append(64)\n",
    "    kern.append(5)\n",
    "\n",
    "filt.append(2)\n",
    "kern.append(5)\n",
    "\n",
    "cnn_2 = build_resnet_cnn(filt, kern, (32, 64, 2), l2 = 1e-5, dr = 0.1)\n",
    "cnn_2.compile(keras.optimizers.Adam(5e-5), 'mse')\n",
    "cnn_2.load_weights('/rds/general/user/mc4117/home/WeatherBench/saved_models/whole_train_res_do_' + str(block_no) + '.h5')"
   ]
  },
  {
   "cell_type": "code",
   "execution_count": 20,
   "metadata": {},
   "outputs": [],
   "source": [
    "block_no = 9\n",
    "\n",
    "filt = [64]\n",
    "kern = [5]\n",
    "\n",
    "for i in range(int(block_no)):\n",
    "    filt.append(64)\n",
    "    kern.append(5)\n",
    "\n",
    "filt.append(2)\n",
    "kern.append(5)\n",
    "\n",
    "cnn_9 = build_resnet_cnn(filt, kern, (32, 64, 2), l2 = 1e-5, dr = 0.1)\n",
    "cnn_9.compile(keras.optimizers.Adam(5e-5), 'mse')\n",
    "cnn_9.load_weights('/rds/general/user/mc4117/home/WeatherBench/saved_models/whole_train_res_do_' + str(block_no) + '.h5')"
   ]
  },
  {
   "cell_type": "code",
   "execution_count": 21,
   "metadata": {},
   "outputs": [],
   "source": [
    "block_no = 12\n",
    "\n",
    "filt = [64]\n",
    "kern = [5]\n",
    "\n",
    "for i in range(int(block_no)):\n",
    "    filt.append(64)\n",
    "    kern.append(5)\n",
    "\n",
    "filt.append(2)\n",
    "kern.append(5)\n",
    "\n",
    "cnn_12 = build_resnet_cnn(filt, kern, (32, 64, 2), l2 = 1e-5, dr = 0.1)\n",
    "cnn_12.compile(keras.optimizers.Adam(5e-5), 'mse')\n",
    "cnn_12.load_weights('/rds/general/user/mc4117/home/WeatherBench/saved_models/whole_train_res_do_' + str(block_no) + '.h5')"
   ]
  },
  {
   "cell_type": "markdown",
   "metadata": {
    "Collapsed": "false"
   },
   "source": [
    "## Create predictions\n",
    "\n",
    "Now that we have our model we need to create a prediction NetCDF file. This function does this. "
   ]
  },
  {
   "cell_type": "code",
   "execution_count": 24,
   "metadata": {
    "Collapsed": "false"
   },
   "outputs": [
    {
     "name": "stdout",
     "output_type": "stream",
     "text": [
      "<xarray.Dataset>\n",
      "Dimensions:  ()\n",
      "Data variables:\n",
      "    z        float64 594.1\n",
      "    t        float64 2.77\n"
     ]
    },
    {
     "data": {
      "image/png": "[encoded data removed]",
      "text/plain": [
       "<Figure size 432x288 with 1 Axes>"
      ]
     },
     "metadata": {
      "needs_background": "light"
     },
     "output_type": "display_data"
    }
   ],
   "source": [
    "block_no =2\n",
    "pred_ensemble_1 = np.load('/rds/general/user/mc4117/ephemeral/saved_pred/whole_train_res_do_' + str(block_no) + '.npy')\n",
    "\n",
    "samples = 30\n",
    "preds_1 = xr.Dataset({\n",
    "    'z': xr.DataArray(\n",
    "        pred_ensemble_1[0, ...],\n",
    "        dims=['time', 'lat', 'lon', 'ens'],\n",
    "        coords={'time':dg_test.data.time[72:], 'lat': dg_test.data.lat, 'lon': dg_test.data.lon, 'ens': np.arange(samples), \n",
    "                },\n",
    "    ),\n",
    "    't': xr.DataArray(\n",
    "        pred_ensemble_1[1, ...],\n",
    "        dims=['time', 'lat', 'lon', 'ens'],\n",
    "        coords={'time':dg_test.data.time[72:], 'lat': dg_test.data.lat, 'lon': dg_test.data.lon, 'ens': np.arange(samples), \n",
    "                },\n",
    "    )\n",
    "})\n",
    "\n",
    "ens_rmse_list_1 = []\n",
    "\n",
    "ens_1 = preds_1.isel(ens = 0).copy()\n",
    "\n",
    "ens_rmse_list_1.append(compute_weighted_rmse(ens_1, valid).compute())\n",
    "\n",
    "for i in range(1, len(preds_1.ens)):\n",
    "    ens_1 += preds_1.isel(ens = i).copy()\n",
    "    ens_rmse_list_1.append(compute_weighted_rmse(ens_1/(i+1), valid).compute())\n",
    "\n",
    "plt.plot([i +1 for i in range(len(ens_rmse_list_1))], [ens_rmse_list_1[i].z for i in range(len(ens_rmse_list_1))], label = '1')\n",
    "\n",
    "print(ens_rmse_list_1[-1])"
   ]
  },
  {
   "cell_type": "code",
   "execution_count": 26,
   "metadata": {},
   "outputs": [
    {
     "name": "stdout",
     "output_type": "stream",
     "text": [
      "<xarray.Dataset>\n",
      "Dimensions:  ()\n",
      "Data variables:\n",
      "    z        float64 445.9\n",
      "    t        float64 2.356\n"
     ]
    },
    {
     "data": {
      "image/png": "[encoded data removed]",
      "text/plain": [
       "<Figure size 432x288 with 1 Axes>"
      ]
     },
     "metadata": {
      "needs_background": "light"
     },
     "output_type": "display_data"
    }
   ],
   "source": [
    "block_no =9\n",
    "pred_ensemble_2 = np.load('/rds/general/user/mc4117/ephemeral/saved_pred/whole_train_res_do_' + str(block_no) + '.npy')\n",
    "\n",
    "samples = 30\n",
    "preds_2 = xr.Dataset({\n",
    "    'z': xr.DataArray(\n",
    "        pred_ensemble_2[0, ...],\n",
    "        dims=['time', 'lat', 'lon', 'ens'],\n",
    "        coords={'time':dg_test.data.time[72:], 'lat': dg_test.data.lat, 'lon': dg_test.data.lon, 'ens': np.arange(samples), \n",
    "                },\n",
    "    ),\n",
    "    't': xr.DataArray(\n",
    "        pred_ensemble_2[1, ...],\n",
    "        dims=['time', 'lat', 'lon', 'ens'],\n",
    "        coords={'time':dg_test.data.time[72:], 'lat': dg_test.data.lat, 'lon': dg_test.data.lon, 'ens': np.arange(samples), \n",
    "                },\n",
    "    )\n",
    "})\n",
    "\n",
    "ens_rmse_list_2 = []\n",
    "\n",
    "ens_2 = preds_2.isel(ens = 0).copy()\n",
    "\n",
    "ens_rmse_list_2.append(compute_weighted_rmse(ens_2, valid).compute())\n",
    "\n",
    "for i in range(1, len(preds_2.ens)):\n",
    "    ens_2 += preds_2.isel(ens = i).copy()\n",
    "    ens_rmse_list_2.append(compute_weighted_rmse(ens_2/(i+1), valid).compute())\n",
    "\n",
    "plt.plot([i +1 for i in range(len(ens_rmse_list_2))], [ens_rmse_list_2[i].z for i in range(len(ens_rmse_list_2))], label = '1')\n",
    "\n",
    "print(ens_rmse_list_2[-1])"
   ]
  },
  {
   "cell_type": "code",
   "execution_count": 27,
   "metadata": {},
   "outputs": [
    {
     "name": "stdout",
     "output_type": "stream",
     "text": [
      "<xarray.Dataset>\n",
      "Dimensions:  ()\n",
      "Data variables:\n",
      "    z        float64 435.7\n",
      "    t        float64 2.311\n"
     ]
    },
    {
     "data": {
      "image/png": "[encoded data removed]",
      "text/plain": [
       "<Figure size 432x288 with 1 Axes>"
      ]
     },
     "metadata": {
      "needs_background": "light"
     },
     "output_type": "display_data"
    }
   ],
   "source": [
    "block_no =12\n",
    "pred_ensemble_3 = np.load('/rds/general/user/mc4117/ephemeral/saved_pred/whole_train_res_do_' + str(block_no) + '.npy')\n",
    "\n",
    "samples = 30\n",
    "preds_3 = xr.Dataset({\n",
    "    'z': xr.DataArray(\n",
    "        pred_ensemble_3[0, ...],\n",
    "        dims=['time', 'lat', 'lon', 'ens'],\n",
    "        coords={'time':dg_test.data.time[72:], 'lat': dg_test.data.lat, 'lon': dg_test.data.lon, 'ens': np.arange(samples), \n",
    "                },\n",
    "    ),\n",
    "    't': xr.DataArray(\n",
    "        pred_ensemble_3[1, ...],\n",
    "        dims=['time', 'lat', 'lon', 'ens'],\n",
    "        coords={'time':dg_test.data.time[72:], 'lat': dg_test.data.lat, 'lon': dg_test.data.lon, 'ens': np.arange(samples), \n",
    "                },\n",
    "    )\n",
    "})\n",
    "\n",
    "ens_rmse_list_3 = []\n",
    "\n",
    "ens_3 = preds_3.isel(ens = 0).copy()\n",
    "\n",
    "ens_rmse_list_3.append(compute_weighted_rmse(ens_3, valid).compute())\n",
    "\n",
    "for i in range(1, len(preds_3.ens)):\n",
    "    ens_3 += preds_3.isel(ens = i).copy()\n",
    "    ens_rmse_list_3.append(compute_weighted_rmse(ens_3/(i+1), valid).compute())\n",
    "\n",
    "plt.plot([i +1 for i in range(len(ens_rmse_list_3))], [ens_rmse_list_3[i].z for i in range(len(ens_rmse_list_3))], label = '1')\n",
    "\n",
    "print(ens_rmse_list_3[-1])"
   ]
  },
  {
   "cell_type": "code",
   "execution_count": 28,
   "metadata": {},
   "outputs": [
    {
     "name": "stdout",
     "output_type": "stream",
     "text": [
      "<xarray.Dataset>\n",
      "Dimensions:  ()\n",
      "Coordinates:\n",
      "    ens      int64 0\n",
      "Data variables:\n",
      "    z        float64 607.3\n",
      "    t        float64 2.831\n"
     ]
    }
   ],
   "source": [
    "print(ens_rmse_list_1[0])"
   ]
  },
  {
   "cell_type": "code",
   "execution_count": 30,
   "metadata": {},
   "outputs": [
    {
     "name": "stdout",
     "output_type": "stream",
     "text": [
      "<xarray.Dataset>\n",
      "Dimensions:  ()\n",
      "Coordinates:\n",
      "    ens      int64 0\n",
      "Data variables:\n",
      "    z        float64 470.9\n",
      "    t        float64 2.452\n"
     ]
    }
   ],
   "source": [
    "print(ens_rmse_list_2[0])"
   ]
  },
  {
   "cell_type": "code",
   "execution_count": 31,
   "metadata": {},
   "outputs": [
    {
     "name": "stdout",
     "output_type": "stream",
     "text": [
      "<xarray.Dataset>\n",
      "Dimensions:  ()\n",
      "Coordinates:\n",
      "    ens      int64 0\n",
      "Data variables:\n",
      "    z        float64 461.2\n",
      "    t        float64 2.41\n"
     ]
    }
   ],
   "source": [
    "print(ens_rmse_list_3[0])"
   ]
  },
  {
   "cell_type": "code",
   "execution_count": null,
   "metadata": {},
   "outputs": [],
   "source": []
  }
 ],
 "metadata": {
  "kernelspec": {
   "display_name": "Python 3",
   "language": "python",
   "name": "python3"
  },
  "language_info": {
   "codemirror_mode": {
    "name": "ipython",
    "version": 3
   },
   "file_extension": ".py",
   "mimetype": "text/x-python",
   "name": "python",
   "nbconvert_exporter": "python",
   "pygments_lexer": "ipython3",
   "version": "3.8.6"
  }
 },
 "nbformat": 4,
 "nbformat_minor": 4
}
