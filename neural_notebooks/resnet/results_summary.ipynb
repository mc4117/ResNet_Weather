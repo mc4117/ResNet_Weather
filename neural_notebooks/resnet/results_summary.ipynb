{
 "cells": [
  {
   "cell_type": "markdown",
   "metadata": {},
   "source": [
    "## Residual"
   ]
  },
  {
   "cell_type": "markdown",
   "metadata": {},
   "source": [
    "| Number of residual blocks | Number of variables | Dropout? | Ensemble do | Ensemble model | RMSE z500 | RMSE t850| Notebook |\n",
    "| --- | --- | --- | --- | --- | --- | --- | --- |\n",
    "| 1|  2 | No | 0 | 1 | 654.8 | 2.991 | resnet_small|\n",
    "| 1|  2 | Yes | 1 | 1 | 659.6 | 3.011 | resnet_small_do|\n",
    "| 1|  2 | Yes | 30 | 1 | 651.5 | 2.969 | resnet_small_do|\n",
    "| --- | --- | --- | --- | --- | --- | --- | --- |\n",
    "| 3|  2 | No | 0 | 1 | 553.1 | 2.649 | 72_resnet |\n",
    "| 3|  10 | No | 0 | 1 | 516.9 | 2.463 | 72_more_data |\n",
    "| 3|  10 | No | 0 | 4 | 500.3 | 2.397 | 72_more_data |\n",
    "| --- | --- | --- | --- | --- | --- | --- | --- |\n",
    "| 5|  2 | No | 0 | 1 | 495.0 | 2.485 | resnet_5blocks |\n",
    "| 5|  2 | Yes | 1 | 1 | 497.1 | 2.523 | resnet_5blocks |\n",
    "| 5|  2 | Yes | 30 | 1 |  473.3 | 2.43  | resnet_5blocks |\n",
    "| 5|  10 | Yes | 12 | 1 | 435.1 | 2.27 | more_data_5blocks |\n",
    "| 5|  10 | Yes | 24 | 2 | 428.8 | 2.248 | more_data_5blocks |\n",
    "| --- | --- | --- | --- | --- | --- | --- | --- |\n",
    "| 7|  2 | No | 0 | 1 | 479.4 | 2.456 | resnet_7blocks |\n",
    "| 7|  2 | Yes | 1 | 1 | 476.6 | 2.47 | resnet_7blocks |\n",
    "| 7|  2 | Yes | 30 | 1 | 451.7 | 2.374 | resnet_7blocks |\n",
    "| 7|  10 | Yes | 12 | 1 | 408.0 | 2.202 | resnet_7blocks |\n",
    "| --- | --- | --- | --- | --- | --- | --- | --- |\n",
    "| 15|  2 | Yes | 1 | 1 | 457.7 | 2.381 | resnet_15blocks |\n",
    "| 15|  2 | Yes | 30 | 1 | 430.8 | 2.275 | resnet_15blocks |"
   ]
  },
  {
   "cell_type": "markdown",
   "metadata": {},
   "source": [
    "## Convolutional"
   ]
  },
  {
   "cell_type": "markdown",
   "metadata": {},
   "source": [
    "Best result with 10 variables and ensemble of 4 is:\n",
    "\n",
    "    RMSE t850 = 2.656\n",
    "    RMSE z500 = 588.9\n",
    "    \n",
    "ensemble/full_dataset_dr_72_more_data.ipynb"
   ]
  }
 ],
 "metadata": {
  "kernelspec": {
   "display_name": "Python3.6 (test1)",
   "language": "python",
   "name": "python3_test1"
  },
  "language_info": {
   "codemirror_mode": {
    "name": "ipython",
    "version": 3
   },
   "file_extension": ".py",
   "mimetype": "text/x-python",
   "name": "python",
   "nbconvert_exporter": "python",
   "pygments_lexer": "ipython3",
   "version": "3.6.12"
  }
 },
 "nbformat": 4,
 "nbformat_minor": 2
}
