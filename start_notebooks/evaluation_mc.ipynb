{
 "cells": [
  {
   "cell_type": "markdown",
   "metadata": {},
   "source": [
    "## Evaluation - recreating results from WeatherBench paper"
   ]
  },
  {
   "cell_type": "code",
   "execution_count": 2,
   "metadata": {},
   "outputs": [],
   "source": [
    "%load_ext autoreload\n",
    "%autoreload 2"
   ]
  },
  {
   "cell_type": "code",
   "execution_count": 3,
   "metadata": {},
   "outputs": [],
   "source": [
    "import numpy as np\n",
    "import xarray as xr\n",
    "import pandas as pd\n",
    "import matplotlib.pyplot as plt\n",
    "import seaborn as sns\n",
    "from src.score import *\n",
    "from collections import OrderedDict"
   ]
  },
  {
   "cell_type": "code",
   "execution_count": 4,
   "metadata": {},
   "outputs": [],
   "source": [
    "import pickle\n",
    "def to_pickle(obj, fn):\n",
    "    with open(fn, 'wb') as f:\n",
    "        pickle.dump(obj, f)\n",
    "def read_pickle(fn):\n",
    "    with open(fn, 'rb') as f:\n",
    "        return pickle.load(f)"
   ]
  },
  {
   "cell_type": "code",
   "execution_count": 5,
   "metadata": {},
   "outputs": [],
   "source": [
    "sns.set_style('darkgrid')\n",
    "sns.set_context('notebook')"
   ]
  },
  {
   "cell_type": "code",
   "execution_count": 6,
   "metadata": {},
   "outputs": [],
   "source": [
    "res = '5.625'\n",
    "DATADIR = f'/rds/general/user/mc4117/home/WeatherBench/data/'\n",
    "PREDDIR = '/rds/general/user/mc4117/home/WeatherBench/baselines/'"
   ]
  },
  {
   "cell_type": "code",
   "execution_count": 7,
   "metadata": {},
   "outputs": [],
   "source": [
    "# Load the validation subset of the data: 2017 and 2018\n",
    "# Ok, actually it's the TEST data but here we will just call it valid\n",
    "z500_valid = load_test_data(f'{DATADIR}geopotential_500', 'z')\n",
    "t850_valid = load_test_data(f'{DATADIR}temperature_850', 't')\n",
    "# for precipitation we are taking 6 hourly accumulations\n",
    "tp_valid = load_test_data(f'{DATADIR}total_precipitation', 'tp').rolling(time=6).sum()\n",
    "tp_valid.name = 'tp'\n",
    "t2m_valid = load_test_data(f'{DATADIR}2m_temperature', 't2m')\n",
    "valid_data = xr.merge([z500_valid, t850_valid, tp_valid, t2m_valid])"
   ]
  },
  {
   "cell_type": "code",
   "execution_count": 8,
   "metadata": {},
   "outputs": [],
   "source": [
    "# to speed things up, let's only evaluate every 6th hour\n",
    "valid_data = valid_data.isel(time=slice(0, None, 6))"
   ]
  },
  {
   "cell_type": "code",
   "execution_count": 44,
   "metadata": {},
   "outputs": [],
   "source": [
    "persistence = xr.open_dataset(f'{PREDDIR}persistence_{res}.nc')\n",
    "climatology = xr.open_dataset(f'{PREDDIR}climatology_{res}.nc')\n",
    "weekly_climatology = xr.open_dataset(f'{PREDDIR}weekly_climatology_{res}.nc')\n",
    "cnn_6h_iter = xr.open_dataset(f'{PREDDIR}cnn_iter.nc')\n",
    "cnn_6h_iter_small = xr.open_dataset(f'{PREDDIR}cnn_small_iter.nc')\n",
    "cnn_3d = xr.open_dataset(f'{PREDDIR}cnn_72.nc')\n",
    "cnn_5d = xr.open_dataset(f'{PREDDIR}cnn_120.nc') \n",
    "                         "
   ]
  },
  {
   "cell_type": "code",
   "execution_count": 10,
   "metadata": {},
   "outputs": [],
   "source": [
    "lr_6h_iter = xr.open_dataset(f'{PREDDIR}lr_6h_iter.nc')"
   ]
  },
  {
   "cell_type": "code",
   "execution_count": 11,
   "metadata": {},
   "outputs": [],
   "source": [
    "func = compute_weighted_rmse"
   ]
  },
  {
   "cell_type": "code",
   "execution_count": 12,
   "metadata": {},
   "outputs": [],
   "source": [
    "clim_rmse = func(climatology, valid_data).load()"
   ]
  },
  {
   "cell_type": "code",
   "execution_count": 13,
   "metadata": {},
   "outputs": [],
   "source": [
    "weekly_clim_rmse = func(weekly_climatology, valid_data).load()"
   ]
  },
  {
   "cell_type": "code",
   "execution_count": 14,
   "metadata": {},
   "outputs": [],
   "source": [
    "persistence_rmse = evaluate_iterative_forecast(persistence, valid_data, func).load()"
   ]
  },
  {
   "cell_type": "code",
   "execution_count": 15,
   "metadata": {},
   "outputs": [],
   "source": [
    "linear_rmse = evaluate_iterative_forecast(lr_6h_iter, valid_data, func).load()"
   ]
  },
  {
   "cell_type": "code",
   "execution_count": 45,
   "metadata": {},
   "outputs": [],
   "source": [
    "cnn_iter_rmse = evaluate_iterative_forecast(cnn_6h_iter, valid_data, func).load()\n",
    "cnn_iter_small_rmse = evaluate_iterative_forecast(cnn_6h_iter_small, valid_data, func).load()"
   ]
  },
  {
   "cell_type": "code",
   "execution_count": 17,
   "metadata": {},
   "outputs": [],
   "source": [
    "cnn_dir_72_rmse = compute_weighted_rmse(cnn_3d, valid_data).load()\n",
    "cnn_dir_120_rmse = compute_weighted_rmse(cnn_5d, valid_data).load()"
   ]
  },
  {
   "cell_type": "markdown",
   "metadata": {},
   "source": [
    "## Tigge"
   ]
  },
  {
   "cell_type": "code",
   "execution_count": 18,
   "metadata": {},
   "outputs": [],
   "source": [
    "variables = ['2m_temperature', 'total_precipitation']"
   ]
  },
  {
   "cell_type": "code",
   "execution_count": 19,
   "metadata": {},
   "outputs": [],
   "source": [
    "tigge_raw = xr.merge([\n",
    "    xr.open_mfdataset(\n",
    "        f'/rds/general/user/mc4117/home/WeatherBench/tigge/{res}deg/{v}/*2018*.nc',\n",
    "        combine='by_coords'\n",
    "    ).squeeze().drop(['valid_time'])   # Necessaary to avoid weird error\n",
    "    for v in variables\n",
    "])"
   ]
  },
  {
   "cell_type": "code",
   "execution_count": 20,
   "metadata": {},
   "outputs": [],
   "source": [
    "tigge_raw = tigge_raw.rename({'step': 'lead_time'})"
   ]
  },
  {
   "cell_type": "code",
   "execution_count": 21,
   "metadata": {},
   "outputs": [],
   "source": [
    "# Again we want 6 hourly accumulations, not accumulation since initialization\n",
    "# Further we want [m] not [kg m**-2], so we divide by 1000\n",
    "tigge_raw['tp'] = tigge_raw.tp.diff('lead_time') / 1000.\n"
   ]
  },
  {
   "cell_type": "code",
   "execution_count": 22,
   "metadata": {},
   "outputs": [],
   "source": [
    "tigge_z_t = xr.open_dataset(f'/rds/general/user/mc4117/home/WeatherBench/tigge/tigge_z_t_{res}deg.nc')\n",
    "tigge_raw['lead_time'] = tigge_z_t.lead_time\n",
    "tigge = xr.merge([tigge_z_t, tigge_raw])"
   ]
  },
  {
   "cell_type": "code",
   "execution_count": 23,
   "metadata": {},
   "outputs": [],
   "source": [
    "# Save for later usage\n",
    "tigge.to_netcdf(f'{PREDDIR}/tigge_5.625deg.nc')"
   ]
  },
  {
   "cell_type": "code",
   "execution_count": 24,
   "metadata": {},
   "outputs": [
    {
     "name": "stderr",
     "output_type": "stream",
     "text": [
      "/rds/general/user/mc4117/home/anaconda3/envs/test1/lib/python3.6/site-packages/dask/array/numpy_compat.py:41: RuntimeWarning: invalid value encountered in true_divide\n",
      "  x = np.divide(x1, x2, out)\n"
     ]
    }
   ],
   "source": [
    "tigge_rmse = evaluate_iterative_forecast(tigge, valid_data, func).load()"
   ]
  },
  {
   "cell_type": "markdown",
   "metadata": {},
   "source": [
    "## T42"
   ]
  },
  {
   "cell_type": "code",
   "execution_count": 25,
   "metadata": {},
   "outputs": [],
   "source": [
    "def convert_time(ds, nlead_time, dt_h=6):\n",
    "    \"\"\"Converts to lead_time format\"\"\"\n",
    "    init_times = ds.time[::nlead_time]\n",
    "    lead_times = xr.DataArray(\n",
    "        np.arange(0, dt_h*nlead_time, dt_h), dims=['lead_time'], coords={'lead_time': np.arange(0, dt_h*nlead_time, dt_h)})\n",
    "    \n",
    "    coords = dict(ds.coords); coords.pop('time')\n",
    "    coords['time'] = init_times; coords['lead_time'] = lead_times\n",
    "    ds_by_lead = xr.merge([xr.DataArray(\n",
    "        ds[var].values.reshape((len(init_times), len(lead_times)) + ds[var].shape[1:]),\n",
    "        dims = ('time', 'lead_time') + ds[var].dims[1:],\n",
    "        coords = coords,\n",
    "        name=var\n",
    "    ) for var in ds])\n",
    "    return ds_by_lead"
   ]
  },
  {
   "cell_type": "code",
   "execution_count": 26,
   "metadata": {},
   "outputs": [],
   "source": [
    "def fix_lat_lon(ds):\n",
    "    \"Not necessary for current version\"\n",
    "    ds = ds.sortby('lat')\n",
    "    ds['lat'] = valid_data.lat\n",
    "    ds = ds.roll(lon=32, roll_coords='lon')\n",
    "    ds['lon'] = valid_data.lon\n",
    "    return ds"
   ]
  },
  {
   "cell_type": "code",
   "execution_count": 27,
   "metadata": {},
   "outputs": [],
   "source": [
    "t42_raw1 = xr.open_mfdataset(\n",
    "    '/rds/general/user/mc4117/home/WeatherBench/IFS_T42/output_42_pl_5.625*.nc',\n",
    "    combine='nested', concat_dim='time'\n",
    ")\n",
    "t42_raw2 = xr.open_mfdataset(\n",
    "    '/rds/general/user/mc4117/home/WeatherBench/IFS_T42/output_42_sfc_5.625*.nc',\n",
    "    combine='nested', concat_dim='time'\n",
    ")\n",
    "\n",
    "t42_raw = xr.merge([t42_raw1, fix_lat_lon(t42_raw2)])"
   ]
  },
  {
   "cell_type": "code",
   "execution_count": 28,
   "metadata": {},
   "outputs": [],
   "source": [
    "# Pick variables we want to evaluate\n",
    "t42 = xr.merge([\n",
    "    t42_raw.z.sel(lev=500e2).drop('lev'),\n",
    "    t42_raw.t.sel(lev=850e2).drop('lev'),\n",
    "    t42_raw['2t']\n",
    "])"
   ]
  },
  {
   "cell_type": "code",
   "execution_count": 29,
   "metadata": {},
   "outputs": [],
   "source": [
    "t42 = convert_time(t42, 29)\n",
    "t42 = t42.sortby('time').rename({'2t': 't2m'})\n",
    "t42.to_netcdf(f'{PREDDIR}/t42_5.625deg.nc')"
   ]
  },
  {
   "cell_type": "code",
   "execution_count": 30,
   "metadata": {},
   "outputs": [],
   "source": [
    "t42_rmse = evaluate_iterative_forecast(t42, valid_data, func).load()"
   ]
  },
  {
   "cell_type": "markdown",
   "metadata": {},
   "source": [
    "## T63"
   ]
  },
  {
   "cell_type": "code",
   "execution_count": 31,
   "metadata": {},
   "outputs": [],
   "source": [
    "t63_raw1 = xr.open_mfdataset(\n",
    "    '/rds/general/user/mc4117/home/WeatherBench/IFS_T63/output_63_pl_5.625*.nc',\n",
    "    combine='nested', concat_dim='time'\n",
    ")\n",
    "t63_raw2 = xr.open_mfdataset(\n",
    "    '/rds/general/user/mc4117/home/WeatherBench/IFS_T63/output_63_sfc_5.625*.nc',\n",
    "    combine='nested', concat_dim='time'\n",
    ")"
   ]
  },
  {
   "cell_type": "code",
   "execution_count": 32,
   "metadata": {},
   "outputs": [],
   "source": [
    "t63_raw = fix_lat_lon(xr.merge([t63_raw1, t63_raw2]))"
   ]
  },
  {
   "cell_type": "code",
   "execution_count": 33,
   "metadata": {},
   "outputs": [],
   "source": [
    "# Pick variables we want to evaluate\n",
    "t63 = xr.merge([\n",
    "    t63_raw.z.sel(lev=500e2).drop('lev'),\n",
    "    t63_raw.t.sel(lev=850e2).drop('lev'),\n",
    "    t63_raw['2t']\n",
    "])"
   ]
  },
  {
   "cell_type": "code",
   "execution_count": 34,
   "metadata": {},
   "outputs": [],
   "source": [
    "t63 = convert_time(t63, 15, 12)\n",
    "t63 = t63.sortby('time').rename({'2t': 't2m'})\n",
    "t63.to_netcdf(f'{PREDDIR}/t63_5.625deg.nc')"
   ]
  },
  {
   "cell_type": "code",
   "execution_count": 35,
   "metadata": {},
   "outputs": [],
   "source": [
    "t63_rmse = evaluate_iterative_forecast(t63, valid_data, func).load()"
   ]
  },
  {
   "cell_type": "code",
   "execution_count": 46,
   "metadata": {},
   "outputs": [
    {
     "data": {
      "image/png": "[encoded data removed]",
      "text/plain": [
       "<Figure size 432x288 with 1 Axes>"
      ]
     },
     "metadata": {},
     "output_type": "display_data"
    }
   ],
   "source": [
    "cnn_iter_rmse.z.plot(label = \"CNN (iterative)\")\n",
    "cnn_iter_small_rmse.z.plot(label = \"CNN small (iterative)\")\n",
    "persistence_rmse.z.plot(label = \"Persistence\")\n",
    "linear_rmse.z.plot(label = \"Linear (iterative)\")\n",
    "t42_rmse.z.plot(label = \"T42\")\n",
    "t63_rmse.z.plot(label = \"T63\")\n",
    "tigge_rmse.z.plot(label = \"Operational\")\n",
    "plt.plot(persistence_rmse.lead_time.values, [weekly_clim_rmse.z.values for i in range(len(persistence_rmse.lead_time))], label = \"Weekly clim\")\n",
    "plt.plot(persistence_rmse.lead_time.values, [clim_rmse.z.values for i in range(len(persistence_rmse.lead_time))], label = \"Climatology\")\n",
    "plt.scatter([72], cnn_dir_72_rmse.z.values)\n",
    "plt.scatter([120], cnn_dir_120_rmse.z.values)\n",
    "plt.xlim([0, 125])\n",
    "plt.xlabel('Forecast time (days)')\n",
    "plt.ylabel('Z500 RMSE')\n",
    "plt.title('')\n",
    "plt.legend(loc = 2)\n",
    "plt.show()"
   ]
  },
  {
   "cell_type": "code",
   "execution_count": 47,
   "metadata": {},
   "outputs": [
    {
     "data": {
      "image/png": "[encoded data removed]",
      "text/plain": [
       "<Figure size 432x288 with 1 Axes>"
      ]
     },
     "metadata": {},
     "output_type": "display_data"
    }
   ],
   "source": [
    "cnn_iter_rmse.t.plot(label = \"CNN (iterative)\")\n",
    "cnn_iter_small_rmse.t.plot(label = \"CNN small (iterative)\")\n",
    "persistence_rmse.t.plot(label = \"Persistence\")\n",
    "linear_rmse.t.plot(label = \"Linear (iterative)\")\n",
    "t42_rmse.t.plot(label = 'T42')\n",
    "t63_rmse.t.plot(label = 'T63')\n",
    "tigge_rmse.t.plot(label = \"Operational\")\n",
    "plt.plot(persistence_rmse.lead_time.values, [weekly_clim_rmse.t.values for i in range(len(persistence_rmse.lead_time))], label = \"Climatology\")\n",
    "plt.plot(persistence_rmse.lead_time.values, [clim_rmse.t.values for i in range(len(persistence_rmse.lead_time))], label = \"Weekly clim\")\n",
    "plt.scatter([72], cnn_dir_72_rmse.t.values)\n",
    "plt.scatter([120], cnn_dir_120_rmse.t.values)\n",
    "plt.xlim([0, 125])\n",
    "plt.xlabel('Forecast time (days)')\n",
    "plt.ylabel('T850 RMSE')\n",
    "plt.title('')\n",
    "plt.legend()\n",
    "plt.show()"
   ]
  },
  {
   "cell_type": "code",
   "execution_count": 49,
   "metadata": {},
   "outputs": [
    {
     "name": "stdout",
     "output_type": "stream",
     "text": [
      "Persistence 3 days z500\n",
      "936.007854910447\n",
      "Persistence 5 days z500\n",
      "1033.2870673490763\n",
      " \n",
      "Climatology z500\n",
      "815.8162124002182\n",
      " \n",
      "Weekly climatology z500\n",
      "1075.3658263002544\n",
      " \n",
      "CNN direct 3days z500\n",
      "713.3428425796859\n",
      "CNN direct 5days z500\n",
      "806.5989088101381\n",
      "CNN iterative 3 days z500\n",
      "847.5628638176454\n",
      "CNN iterative 5 days z500\n",
      "1214.671412507698\n",
      " \n",
      "CNN small iterative 3 days z500\n",
      "785.0892943134446\n",
      "CNN iterative 5 days z500\n",
      "1161.5673269588672\n",
      " \n",
      "Linear iterative 3 days z500\n",
      "717.6083527123478\n",
      "Linear iterative 5 days z500\n",
      "809.3427309616721\n",
      " \n",
      "T42 3 days z500\n",
      "488.75903131937594\n",
      "T42 5 days z500\n",
      "742.7000257258023\n",
      " \n",
      "Operational 3 days z500\n",
      "153.09784599719526\n",
      "Operational 5 days z500\n",
      "334.1049485981848\n"
     ]
    }
   ],
   "source": [
    "print(\"Persistence 3 days z500\")\n",
    "print(persistence_rmse.z.sel(lead_time = 72).values)\n",
    "\n",
    "print(\"Persistence 5 days z500\")\n",
    "print(persistence_rmse.z.sel(lead_time = 120).values)\n",
    "print(\" \")\n",
    "print(\"Climatology z500\")\n",
    "print(weekly_clim_rmse.z.values)\n",
    "print(\" \")\n",
    "print(\"Weekly climatology z500\")\n",
    "print(clim_rmse.z.values)\n",
    "print(\" \")\n",
    "print(\"CNN direct 3days z500\")\n",
    "print(cnn_dir_72_rmse.z.values)\n",
    "print(\"CNN direct 5days z500\")\n",
    "print(cnn_dir_120_rmse.z.values)\n",
    "print(\"CNN iterative 3 days z500\")\n",
    "print(cnn_iter_rmse.z.sel(lead_time = 72).values)\n",
    "print(\"CNN iterative 5 days z500\")\n",
    "print(cnn_iter_rmse.z.sel(lead_time = 120).values)\n",
    "print(\" \")\n",
    "print(\"CNN small iterative 3 days z500\")\n",
    "print(cnn_iter_small_rmse.z.sel(lead_time = 72).values)\n",
    "print(\"CNN iterative 5 days z500\")\n",
    "print(cnn_iter_small_rmse.z.sel(lead_time = 120).values)\n",
    "print(\" \")\n",
    "print(\"Linear iterative 3 days z500\")\n",
    "print(linear_rmse.z.sel(lead_time = 72).values)\n",
    "print(\"Linear iterative 5 days z500\")\n",
    "print(linear_rmse.z.sel(lead_time = 120).values)\n",
    "print(\" \")\n",
    "print(\"T42 3 days z500\")\n",
    "print(t42_rmse.z.sel(lead_time = 72).values)\n",
    "print(\"T42 5 days z500\")\n",
    "print(t42_rmse.z.sel(lead_time = 120).values)\n",
    "print(\" \")\n",
    "print(\"Operational 3 days z500\")\n",
    "print(tigge_rmse.z.sel(lead_time = 72).values)\n",
    "print(\"Operational 5 days z500\")\n",
    "print(tigge_rmse.z.sel(lead_time = 120).values)"
   ]
  },
  {
   "cell_type": "code",
   "execution_count": 50,
   "metadata": {},
   "outputs": [
    {
     "name": "stdout",
     "output_type": "stream",
     "text": [
      "Persistence 3 days T850\n",
      "4.292918350379879\n",
      "Persistence 5 days T850\n",
      "4.556233731401214\n",
      " \n",
      "Climatology T850\n",
      "3.503484517566649\n",
      " \n",
      "Weekly climatology T850\n",
      "5.512353749493499\n",
      " \n",
      "CNN direct 3days T850\n",
      "3.2403093314529006\n",
      "CNN direct 5days T850\n",
      "3.5961146748776267\n",
      "CNN iterative 3 days T850\n",
      "4.316092622873898\n",
      "CNN iterative 5 days T850\n",
      "6.250509222879882\n",
      " \n",
      "CNN small iterative 3 days T850\n",
      "3.7520760949040404\n",
      "CNN iterative 5 days T850\n",
      "5.092980598543168\n",
      " \n",
      "Linear iterative 3 days T850\n",
      "3.1661298872459596\n",
      "Linear iterative 5 days T850\n",
      "3.475969787427173\n",
      " \n",
      "T42 3 days T850\n",
      "3.0931665087405587\n",
      "T42 5 days T850\n",
      "3.831162307569719\n",
      " \n",
      "Operational 3 days z500\n",
      "1.3554965336600335\n",
      "Operational 5 days z500\n",
      "2.0316256111382507\n"
     ]
    }
   ],
   "source": [
    "print(\"Persistence 3 days T850\")\n",
    "print(persistence_rmse.t.sel(lead_time = 72).values)\n",
    "\n",
    "print(\"Persistence 5 days T850\")\n",
    "print(persistence_rmse.t.sel(lead_time = 120).values)\n",
    "print(\" \")\n",
    "print(\"Climatology T850\")\n",
    "print(weekly_clim_rmse.t.values)\n",
    "print(\" \")\n",
    "print(\"Weekly climatology T850\")\n",
    "print(clim_rmse.t.values)\n",
    "print(\" \")\n",
    "print(\"CNN direct 3days T850\")\n",
    "print(cnn_dir_72_rmse.t.values)\n",
    "print(\"CNN direct 5days T850\")\n",
    "print(cnn_dir_120_rmse.t.values)\n",
    "print(\"CNN iterative 3 days T850\")\n",
    "print(cnn_iter_rmse.t.sel(lead_time = 72).values)\n",
    "print(\"CNN iterative 5 days T850\")\n",
    "print(cnn_iter_rmse.t.sel(lead_time = 120).values)\n",
    "print(\" \")\n",
    "print(\"CNN small iterative 3 days T850\")\n",
    "print(cnn_iter_small_rmse.t.sel(lead_time = 72).values)\n",
    "print(\"CNN iterative 5 days T850\")\n",
    "print(cnn_iter_small_rmse.t.sel(lead_time = 120).values)\n",
    "print(\" \")\n",
    "print(\"Linear iterative 3 days T850\")\n",
    "print(linear_rmse.t.sel(lead_time = 72).values)\n",
    "print(\"Linear iterative 5 days T850\")\n",
    "print(linear_rmse.t.sel(lead_time = 120).values)\n",
    "print(\" \")\n",
    "print(\"T42 3 days T850\")\n",
    "print(t42_rmse.t.sel(lead_time = 72).values)\n",
    "print(\"T42 5 days T850\")\n",
    "print(t42_rmse.t.sel(lead_time = 120).values)\n",
    "print(\" \")\n",
    "print(\"Operational 3 days z500\")\n",
    "print(tigge_rmse.t.sel(lead_time = 72).values)\n",
    "print(\"Operational 5 days z500\")\n",
    "print(tigge_rmse.t.sel(lead_time = 120).values)"
   ]
  },
  {
   "cell_type": "code",
   "execution_count": null,
   "metadata": {},
   "outputs": [],
   "source": []
  }
 ],
 "metadata": {
  "kernelspec": {
   "display_name": "Python3.6 (test1)",
   "language": "python",
   "name": "python3_test1"
  },
  "language_info": {
   "codemirror_mode": {
    "name": "ipython",
    "version": 3
   },
   "file_extension": ".py",
   "mimetype": "text/x-python",
   "name": "python",
   "nbconvert_exporter": "python",
   "pygments_lexer": "ipython3",
   "version": "3.6.12"
  }
 },
 "nbformat": 4,
 "nbformat_minor": 2
}
