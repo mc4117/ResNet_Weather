{
 "cells": [
  {
   "cell_type": "markdown",
   "metadata": {},
   "source": [
    "In the important variables the correlation increases as the number of days increases"
   ]
  },
  {
   "cell_type": "code",
   "execution_count": 22,
   "metadata": {},
   "outputs": [],
   "source": [
    "import xarray as xr\n",
    "\n",
    "import matplotlib.pyplot as plt\n",
    "import pandas as pd\n",
    "import numpy as np"
   ]
  },
  {
   "cell_type": "code",
   "execution_count": 23,
   "metadata": {},
   "outputs": [],
   "source": [
    "DATADIR = '/Volumes/mc4117/home/WeatherBench/data/'  "
   ]
  },
  {
   "cell_type": "code",
   "execution_count": 24,
   "metadata": {},
   "outputs": [
    {
     "name": "stdout",
     "output_type": "stream",
     "text": [
      "\u001b[34m10m_u_component_of_wind\u001b[m\u001b[m      \u001b[34mtemperature\u001b[m\u001b[m\r\n",
      "\u001b[34m10m_v_component_of_wind\u001b[m\u001b[m      \u001b[34mtemperature_850\u001b[m\u001b[m\r\n",
      "\u001b[34m2m_temperature\u001b[m\u001b[m               \u001b[34mtoa_incident_solar_radiation\u001b[m\u001b[m\r\n",
      "\u001b[34mconstants\u001b[m\u001b[m                    \u001b[34mtotal_cloud_cover\u001b[m\u001b[m\r\n",
      "\u001b[34mgeopotential\u001b[m\u001b[m                 \u001b[34mtotal_precipitation\u001b[m\u001b[m\r\n",
      "\u001b[34mgeopotential_500\u001b[m\u001b[m             \u001b[34mu_component_of_wind\u001b[m\u001b[m\r\n",
      "\u001b[34mpotential_vorticity\u001b[m\u001b[m          \u001b[34mv_component_of_wind\u001b[m\u001b[m\r\n",
      "\u001b[34mrelative_humidity\u001b[m\u001b[m            \u001b[34mvorticity\u001b[m\u001b[m\r\n",
      "\u001b[34mspecific_humidity\u001b[m\u001b[m\r\n"
     ]
    }
   ],
   "source": [
    "! ls $DATADIR"
   ]
  },
  {
   "cell_type": "code",
   "execution_count": 4,
   "metadata": {},
   "outputs": [],
   "source": [
    "def covariance(x, y, dim=None):\n",
    "    x_arr = x\n",
    "    y_arr = y\n",
    "    valid_values = x_arr.notnull() & y_arr.notnull()\n",
    "    valid_count = valid_values.sum(dim)\n",
    "\n",
    "    demeaned_x = (x_arr - x_arr.mean(dim)).fillna(0)\n",
    "    demeaned_y = (y_arr - y_arr.mean(dim)).fillna(0)\n",
    "    \n",
    "    return xr.dot(demeaned_x, demeaned_y, dims=dim) / valid_count\n",
    "\n",
    "def correlation(x, y, dim=None):\n",
    "    # dim should default to the intersection of x.dims and y.dims\n",
    "    return covariance(x, y, dim) / (x.std(dim) * y.std(dim))"
   ]
  },
  {
   "cell_type": "code",
   "execution_count": 5,
   "metadata": {},
   "outputs": [],
   "source": [
    "def color_negative_red(value):\n",
    "\n",
    "    if abs(value) < 0.25:\n",
    "        color = 'red'\n",
    "    elif abs(value) > 0.5:\n",
    "        color = 'green'\n",
    "    else:\n",
    "        color = 'black'\n",
    "\n",
    "    return 'color: %s' % color"
   ]
  },
  {
   "cell_type": "code",
   "execution_count": 25,
   "metadata": {},
   "outputs": [],
   "source": [
    "geo_500 = xr.open_mfdataset(f'{DATADIR}geopotential_500/*.nc', combine='by_coords')\n",
    "temp850 = xr.open_mfdataset(f'{DATADIR}temperature_850/*.nc', combine='by_coords')"
   ]
  },
  {
   "cell_type": "code",
   "execution_count": 26,
   "metadata": {},
   "outputs": [],
   "source": [
    "temp_arr = temp850.t.sel(time = '2018')\n",
    "geo_arr = geo_500.z.sel(time = '2018')"
   ]
  },
  {
   "cell_type": "code",
   "execution_count": 6,
   "metadata": {},
   "outputs": [
    {
     "data": {
      "text/plain": [
       "(0.9323881005250092, 0.0)"
      ]
     },
     "execution_count": 6,
     "metadata": {},
     "output_type": "execute_result"
    }
   ],
   "source": [
    "from scipy.stats import pearsonr\n",
    "pearsonr(temp_arr.values.flatten(), geo_arr.values.flatten())"
   ]
  },
  {
   "cell_type": "code",
   "execution_count": 29,
   "metadata": {},
   "outputs": [],
   "source": [
    "geo_500_north = geo_500.sel(lat=slice(0, 90))\n",
    "geo_500_south = geo_500.sel(lat=slice(-90, 0))\n",
    "\n",
    "t850_north = temp850.sel(lat=slice(0, 90))\n",
    "t850_south = temp850.sel(lat=slice(-90, 0))"
   ]
  },
  {
   "cell_type": "code",
   "execution_count": null,
   "metadata": {},
   "outputs": [],
   "source": [
    "variables = [\n",
    "             u_wind.u.sel(level=500), u_wind.u.sel(level=850), v_wind.v.sel(level=500), v_wind.v.sel(level=850), \n",
    "             u_wind_10m.u10, v_wind_10m.v10, temp_2m.t2m, geo_500.z, pot_vort.pv.sel(level = 500), pot_vort.pv.sel(level=850),\n",
    "             rel_hum.r.sel(level = 500), rel_hum.r.sel(level=850), spec_hum.q.sel(level=500),\n",
    "             spec_hum.q.sel(level=850), temp850.t, solar.tisr, cloud_cover.tcc, precip.tp, \n",
    "             vort.vo.sel(level=500), vort.vo.sel(level=850)\n",
    "            ]\n",
    "variables_str = [\n",
    "             'u_wind_500', 'v_wind_500', 'u_wind_850', 'v_wind_850', 'u_wind_10m', 'v_wind_10m', \n",
    "             'temp_2m', 'geo_500', 'pot_vort_500', 'pot_vort_850',\n",
    "             'rel_hum_500', 'rel_hum_850', 'spec_hum_500',\n",
    "             'spec_hum_850', 'temp850', 'solar', 'cloud_cover', 'precip', \n",
    "             'vort_500', 'vort_850'\n",
    "            ]\n",
    "\n",
    "def correlation_variables_table(data_list, y, lead_time, north = False, south = False):\n",
    "    correlation_list = []\n",
    "    \n",
    "    y_corr = y.sel(time = slice(y.time[lead_time], None))\n",
    "    \n",
    "    for i in variables:\n",
    "        if north:\n",
    "            i_known = i.sel(lat = slice(0, 90), time = slice(None, i.time[-(lead_time +1)])) \n",
    "        elif south:\n",
    "            i_known = i.sel(lat = slice(-90, 0), time = slice(None, i.time[-(lead_time +1)])) \n",
    "        else:\n",
    "            i_known = i.sel(time = slice(None, i.time[-(lead_time +1)])) \n",
    "        correlation_list.append(correlation(i_known, y_corr).values)    \n",
    "\n",
    "    return correlation_list\n"
   ]
  },
  {
   "cell_type": "code",
   "execution_count": null,
   "metadata": {},
   "outputs": [],
   "source": [
    "temp850_corr = correlation_variables_table(variables, temp850.t, lead_time = 72)\n",
    "#temp850_corr_north = correlation_variables_table(variables, t850_north.t, lead_time = 72, north = True)\n",
    "#temp850_corr_south = correlation_variables_table(variables, t850_south.t, lead_time = 72, south = True)\n",
    "\n",
    "print('temp done')\n",
    "\n",
    "geo500_corr = correlation_variables_table(variables, geo_500.z, lead_time = 72)\n",
    "#geo500_corr_north = correlation_variables_table(variables, geo_500_north.z, lead_time = 0, north = True)\n",
    "#geo500_corr_south = correlation_variables_table(variables, geo_500_south.z, lead_time = 0, south = True)"
   ]
  },
  {
   "cell_type": "code",
   "execution_count": null,
   "metadata": {},
   "outputs": [],
   "source": [
    "df = pd.concat([pd.DataFrame(variables_str, columns = ['Variable names']), pd.DataFrame(temp850_corr, columns = ['Corr_tmp_850 full'])], axis = 1)\n",
    "\n",
    "df.style.applymap(color_negative_red, subset=['Corr_tmp_850 full'])"
   ]
  },
  {
   "cell_type": "code",
   "execution_count": null,
   "metadata": {},
   "outputs": [],
   "source": [
    "df = pd.concat([pd.DataFrame(variables_str, columns = ['Variable names']), pd.DataFrame(geo500_corr, columns = ['Corr_geo_500 full'])], axis = 1)\n",
    "\n",
    "df.style.applymap(color_negative_red, subset=['Corr_geo_500 full'])"
   ]
  },
  {
   "cell_type": "code",
   "execution_count": null,
   "metadata": {},
   "outputs": [],
   "source": [
    "temp850_corr = correlation_variables_table(variables, temp850.t, lead_time = 120)\n",
    "\n",
    "print('temp done')\n",
    "\n",
    "geo500_corr = correlation_variables_table(variables, geo_500.z, lead_time = 120)"
   ]
  },
  {
   "cell_type": "code",
   "execution_count": null,
   "metadata": {},
   "outputs": [],
   "source": [
    "df = pd.concat([pd.DataFrame(variables_str, columns = ['Variable names']), pd.DataFrame(temp850_corr, columns = ['Corr_tmp_850 full'])], axis = 1)\n",
    "\n",
    "df.style.applymap(color_negative_red, subset=['Corr_tmp_850 full'])"
   ]
  },
  {
   "cell_type": "code",
   "execution_count": null,
   "metadata": {},
   "outputs": [],
   "source": [
    "df = pd.concat([pd.DataFrame(variables_str, columns = ['Variable names']), pd.DataFrame(geo500_corr, columns = ['Corr_geo_500 full'])], axis = 1)\n",
    "\n",
    "df.style.applymap(color_negative_red, subset=['Corr_geo_500 full'])"
   ]
  },
  {
   "cell_type": "code",
   "execution_count": null,
   "metadata": {},
   "outputs": [],
   "source": [
    "df = pd.concat([pd.DataFrame(variables_str, columns = ['Variable names']), pd.DataFrame(temp850_corr, columns = ['Corr_tmp_850 full']), pd.DataFrame(temp850_corr_north, columns = ['Corr_tmp_850 north']), pd.DataFrame(temp850_corr_south, columns = ['Corr_tmp_850 south'])], axis = 1)\n",
    "\n",
    "df.style.applymap(color_negative_red, subset=['Corr_tmp_850 full', 'Corr_tmp_850 north', 'Corr_tmp_850 south'])"
   ]
  },
  {
   "cell_type": "code",
   "execution_count": null,
   "metadata": {},
   "outputs": [],
   "source": [
    "df = pd.concat([pd.DataFrame(variables_str, columns = ['Variable names']), pd.DataFrame(geo500_corr, columns = ['Corr_geo_500 full']), pd.DataFrame(geo500_corr_north, columns = ['Corr_geo_500 north']), pd.DataFrame(geo500_corr_south, columns = ['Corr_geo_500 south'])], axis = 1)\n",
    "\n",
    "df.style.applymap(color_negative_red, subset=['Corr_geo_500 full', 'Corr_geo_500 north', 'Corr_geo_500 south'])"
   ]
  },
  {
   "cell_type": "code",
   "execution_count": null,
   "metadata": {},
   "outputs": [],
   "source": [
    "constant_variables_str = []\n",
    "corr_z500_const = []\n",
    "corr_z500_north_const = []\n",
    "corr_z500_south_const = []\n",
    "\n",
    "constant_variables_str.append('orography')\n",
    "#corr_tmp_850_const.append(np.mean([correlation(constants.orography, temp850.t.isel(time = np.int(100*i))).values for i in range(np.int(len(temp850.t)/100))]))\n",
    "corr_z500_north_const.append(np.mean([correlation(constants.orography.sel(lat = slice(0,90)), geo_500_north.z.isel(time = np.int(100*i))).values for i in range(np.int(len(geo_500_north.z)/100))]))\n",
    "corr_z500_const.append(np.mean([correlation(constants.orography, geo_500.z.isel(time = np.int(100*i))).values for i in range(np.int(len(geo_500.z)/100))]))\n",
    "corr_z500_south_const.append(np.mean([correlation(constants.orography.sel(lat = slice(-90, 0)), geo_500_south.z.isel(time = np.int(100*i))).values for i in range(np.int(len(geo_500_south.z)/100))]))\n",
    "\n",
    "\n",
    "constant_variables_str.append('lsm')\n",
    "#corr_tmp_850_const.append(np.mean([correlation(constants.lsm, temp850.t.isel(time = np.int(100*i))).values for i in range(np.int(len(temp850.t)/100))]))\n",
    "corr_z500_north_const.append(np.mean([correlation(constants.lsm.sel(lat = slice(0,90)), geo_500_north.z.isel(time = np.int(100*i))).values for i in range(np.int(len(geo_500_north.z)/100))]))\n",
    "corr_z500_const.append(np.mean([correlation(constants.lsm, geo_500.z.isel(time = np.int(100*i))).values for i in range(np.int(len(geo_500.z)/100))]))\n",
    "corr_z500_south_const.append(np.mean([correlation(constants.lsm.sel(lat = slice(-90, 0)), geo_500_south.z.isel(time = np.int(100*i))).values for i in range(np.int(len(geo_500_south.z)/100))]))\n",
    "\n",
    "\n",
    "constant_variables_str.append('slt')\n",
    "#corr_tmp_850_const.append(np.mean([correlation(constants.slt, temp850.t.isel(time = np.int(100*i))).values for i in range(np.int(len(temp850.t)/100))]))\n",
    "corr_z500_north_const.append(np.mean([correlation(constants.slt.sel(lat = slice(0,90)), geo_500_north.z.isel(time = np.int(100*i))).values for i in range(np.int(len(geo_500_north.z)/100))]))\n",
    "corr_z500_const.append(np.mean([correlation(constants.slt, geo_500.z.isel(time = np.int(100*i))).values for i in range(np.int(len(geo_500.z)/100))]))\n",
    "corr_z500_south_const.append(np.mean([correlation(constants.slt.sel(lat = slice(-90, 0)), geo_500_south.z.isel(time = np.int(100*i))).values for i in range(np.int(len(geo_500_south.z)/100))]))\n",
    "\n",
    "\n",
    "constant_variables_str.append('lat')\n",
    "corr_z500_north_const.append(np.mean([correlation(constants.lat2d.sel(lat = slice(0,90)), geo_500_north.z.isel(time = np.int(100*i))).values for i in range(np.int(len(geo_500_north.z)/100))]))\n",
    "corr_z500_const.append(np.mean([correlation(constants.lat2d, geo_500.z.isel(time = np.int(100*i))).values for i in range(np.int(len(geo_500.z)/100))]))\n",
    "corr_z500_south_const.append(np.mean([correlation(constants.lat2d.sel(lat = slice(-90,0)), geo_500_south.z.isel(time = np.int(100*i))).values for i in range(np.int(len(geo_500_south.z)/100))]))\n",
    "\n",
    "constant_variables_str.append('lon')\n",
    "corr_z500_north_const.append(np.mean([correlation(constants.lon2d.sel(lat = slice(0,90)), geo_500_north.z.isel(time = np.int(100*i))).values for i in range(np.int(len(geo_500_north.z)/100))]))\n",
    "corr_z500_const.append(np.mean([correlation(constants.lon2d, geo_500.z.isel(time = np.int(100*i))).values for i in range(np.int(len(geo_500.z)/100))]))\n",
    "corr_z500_south_const.append(np.mean([correlation(constants.lon2d.sel(lat = slice(-90, 0)), geo_500_south.z.isel(time = np.int(100*i))).values for i in range(np.int(len(geo_500_south.z)/100))]))\n",
    "\n",
    "\n",
    "#df = pd.concat([pd.DataFrame(constant_variables_str, columns = ['Variable names']), pd.DataFrame(corr_tmp_850_const, columns = ['Corr tmp_850']), pd.DataFrame(corr_z500_const, columns = ['Corr z500'])], axis = 1)\n",
    "\n",
    "df = pd.concat([pd.DataFrame(constant_variables_str, columns = ['Variable names']),pd.DataFrame(corr_z500_const, columns = ['Corr z500'])], axis = 1)\n",
    "\n",
    "df.style.applymap(color_negative_red, subset=['Corr z500'])\n"
   ]
  },
  {
   "cell_type": "code",
   "execution_count": null,
   "metadata": {},
   "outputs": [],
   "source": [
    "df = pd.concat([pd.DataFrame(constant_variables_str, columns = ['Variable names']),pd.DataFrame(corr_z500_const, columns = ['Corr z500']), pd.DataFrame(corr_z500_north_const, columns = ['Corr z500 north']), pd.DataFrame(corr_z500_south_const, columns = ['Corr z500 south'])], axis = 1)\n",
    "\n",
    "df.style.applymap(color_negative_red, subset=['Corr z500', 'Corr z500 north', 'Corr z500 south'])"
   ]
  },
  {
   "cell_type": "code",
   "execution_count": null,
   "metadata": {},
   "outputs": [],
   "source": [
    "constant_variables_str = []\n",
    "corr_t850_const = []\n",
    "corr_t850_north_const = []\n",
    "corr_t850_south_const = []\n",
    "\n",
    "constant_variables_str.append('orography')\n",
    "#corr_tmp_850_const.append(np.mean([correlation(constants.orography, temp850.t.isel(time = np.int(100*i))).values for i in range(np.int(len(temp850.t)/100))]))\n",
    "corr_t850_north_const.append(np.mean([correlation(constants.orography.sel(lat = slice(0,90)), t850_north.t.isel(time = np.int(100*i))).values for i in range(np.int(len(t850_north.t)/100))]))\n",
    "corr_t850_const.append(np.mean([correlation(constants.orography, temp850.t.isel(time = np.int(100*i))).values for i in range(np.int(len(temp850.t)/100))]))\n",
    "corr_t850_south_const.append(np.mean([correlation(constants.orography.sel(lat = slice(-90,0)), t850_south.t.isel(time = np.int(100*i))).values for i in range(np.int(len(t850_south.t)/100))]))\n",
    "\n",
    "\n",
    "constant_variables_str.append('lsm')\n",
    "#corr_tmp_850_const.append(np.mean([correlation(constants.orography, temp850.t.isel(time = np.int(100*i))).values for i in range(np.int(len(temp850.t)/100))]))\n",
    "corr_t850_north_const.append(np.mean([correlation(constants.lsm.sel(lat = slice(0,90)), t850_north.t.isel(time = np.int(100*i))).values for i in range(np.int(len(t850_north.t)/100))]))\n",
    "corr_t850_const.append(np.mean([correlation(constants.lsm, temp850.t.isel(time = np.int(100*i))).values for i in range(np.int(len(temp850.t)/100))]))\n",
    "corr_t850_south_const.append(np.mean([correlation(constants.lsm.sel(lat = slice(-90,0)), t850_south.t.isel(time = np.int(100*i))).values for i in range(np.int(len(t850_south.t)/100))]))\n",
    "\n",
    "\n",
    "constant_variables_str.append('slt')\n",
    "#corr_tmp_850_const.append(np.mean([correlation(constants.orography, temp850.t.isel(time = np.int(100*i))).values for i in range(np.int(len(temp850.t)/100))]))\n",
    "corr_t850_north_const.append(np.mean([correlation(constants.slt.sel(lat = slice(0,90)), t850_north.t.isel(time = np.int(100*i))).values for i in range(np.int(len(t850_north.t)/100))]))\n",
    "corr_t850_const.append(np.mean([correlation(constants.slt, temp850.t.isel(time = np.int(100*i))).values for i in range(np.int(len(temp850.t)/100))]))\n",
    "corr_t850_south_const.append(np.mean([correlation(constants.slt.sel(lat = slice(-90,0)), t850_south.t.isel(time = np.int(100*i))).values for i in range(np.int(len(t850_south.t)/100))]))\n",
    "\n",
    "constant_variables_str.append('lat')\n",
    "#corr_tmp_850_const.append(np.mean([correlation(constants.orography, temp850.t.isel(time = np.int(100*i))).values for i in range(np.int(len(temp850.t)/100))]))\n",
    "corr_t850_north_const.append(np.mean([correlation(constants.lat2d.sel(lat = slice(0,90)), t850_north.t.isel(time = np.int(100*i))).values for i in range(np.int(len(t850_north.t)/100))]))\n",
    "corr_t850_const.append(np.mean([correlation(constants.lat2d, temp850.t.isel(time = np.int(100*i))).values for i in range(np.int(len(temp850.t)/100))]))\n",
    "corr_t850_south_const.append(np.mean([correlation(constants.lat2d.sel(lat = slice(-90,0)), t850_south.t.isel(time = np.int(100*i))).values for i in range(np.int(len(t850_south.t)/100))]))\n",
    "\n",
    "constant_variables_str.append('lon')\n",
    "#corr_tmp_850_const.append(np.mean([correlation(constants.orography, temp850.t.isel(time = np.int(100*i))).values for i in range(np.int(len(temp850.t)/100))]))\n",
    "corr_t850_north_const.append(np.mean([correlation(constants.lon2d.sel(lat = slice(0,90)), t850_north.t.isel(time = np.int(100*i))).values for i in range(np.int(len(t850_north.t)/100))]))\n",
    "corr_t850_const.append(np.mean([correlation(constants.lon2d, temp850.t.isel(time = np.int(100*i))).values for i in range(np.int(len(temp850.t)/100))]))\n",
    "corr_t850_south_const.append(np.mean([correlation(constants.lon2d.sel(lat = slice(-90,0)), t850_south.t.isel(time = np.int(100*i))).values for i in range(np.int(len(t850_south.t)/100))]))\n",
    "\n",
    "df2 = pd.concat([pd.DataFrame(constant_variables_str, columns = ['Variable names']),pd.DataFrame(corr_t850_const, columns = ['Corr t850']), pd.DataFrame(corr_t850_north_const, columns = ['Corr t850 north']), pd.DataFrame(corr_t850_south_const, columns = ['Corr t850 south'])], axis = 1)\n",
    "\n",
    "df2.style.applymap(color_negative_red, subset=['Corr t850', 'Corr t850 north', 'Corr t850 south'])\n"
   ]
  },
  {
   "cell_type": "code",
   "execution_count": null,
   "metadata": {},
   "outputs": [],
   "source": [
    "def correlation_table(data1, data2_level, lead_time):\n",
    "\n",
    "    data1_correct = data1.sel(time = slice(data1.time[lead_time], None))\n",
    "    data2_known = data2_level.sel(time = slice(None, data2_level.time[-(lead_time +1)]))\n",
    "    \n",
    "    level_values = data2_known.level.values\n",
    "    \n",
    "    level_sets = [data2_known.sel(level = i) for i in level_values]\n",
    "    \n",
    "    corr = [correlation(i, data1_correct).values for i in level_sets]\n",
    "\n",
    "    df = pd.concat([pd.DataFrame(level_values, columns = ['Levels']), pd.DataFrame(corr, columns = ['Correlation_' + str(lead_time)])], axis = 1)\n",
    "    \n",
    "    return level_values, corr, df"
   ]
  },
  {
   "cell_type": "code",
   "execution_count": null,
   "metadata": {},
   "outputs": [],
   "source": [
    "level_values_temp_0, corr_temp_0, df_temp_0 = correlation_table(temp850.t, pot_vort.pv, 0)"
   ]
  },
  {
   "cell_type": "code",
   "execution_count": null,
   "metadata": {},
   "outputs": [],
   "source": [
    "level_north, corr_temp_north, df_temp_north = correlation_table(t850_north.t, pot_vort.pv, 0)"
   ]
  },
  {
   "cell_type": "code",
   "execution_count": null,
   "metadata": {},
   "outputs": [],
   "source": [
    "level_south, corr_temp_south, df_temp_south = correlation_table(t850_south.t, pot_vort.pv, 0)"
   ]
  },
  {
   "cell_type": "code",
   "execution_count": null,
   "metadata": {},
   "outputs": [],
   "source": [
    "df = pd.concat([df_temp_0, df_temp_north.drop('Levels', axis = 1), df_temp_south.drop('Levels', axis =1)], axis =1)\n",
    "df"
   ]
  },
  {
   "cell_type": "code",
   "execution_count": null,
   "metadata": {},
   "outputs": [],
   "source": [
    "level_geo_0, corr_geo_0, df_geo_0 = correlation_table(geo_500.z, pot_vort.pv, 0)\n",
    "level_geo_north, corr_geo_north, df_geo_north = correlation_table(geo_500_north.z, pot_vort.pv, 0)\n",
    "level_geo_south, corr_geo_south, df_geo_south = correlation_table(geo_500_south.z, pot_vort.pv, 0)"
   ]
  },
  {
   "cell_type": "code",
   "execution_count": null,
   "metadata": {},
   "outputs": [],
   "source": [
    "df = pd.concat([df_geo_0, df_geo_north.drop('Levels', axis = 1), df_geo_south.drop('Levels', axis =1)], axis =1)\n",
    "df"
   ]
  }
 ],
 "metadata": {
  "kernelspec": {
   "display_name": "Python 3",
   "language": "python",
   "name": "python3"
  },
  "language_info": {
   "codemirror_mode": {
    "name": "ipython",
    "version": 3
   },
   "file_extension": ".py",
   "mimetype": "text/x-python",
   "name": "python",
   "nbconvert_exporter": "python",
   "pygments_lexer": "ipython3",
   "version": "3.8.6"
  }
 },
 "nbformat": 4,
 "nbformat_minor": 2
}
